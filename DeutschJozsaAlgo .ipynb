{
 "cells": [
  {
   "cell_type": "code",
   "execution_count": 14,
   "metadata": {},
   "outputs": [],
   "source": [
    "# simple implementation of DeutchJosza algorithm in qiskit\n",
    "from qiskit import QuantumCircuit, QuantumRegister, ClassicalRegister, BasicAer, execute\n",
    "from qiskit.visualization import plot_histogram \n",
    "import numpy as np"
   ]
  },
  {
   "cell_type": "code",
   "execution_count": 15,
   "metadata": {},
   "outputs": [],
   "source": [
    "# used 'C' for constant an 'B' for  balanced\n",
    "def oracle_DJZ1(type, val):\n",
    "    oracle_circuit = QuantumCircuit(2)\n",
    "    if type == 'C' and val == '0' :\n",
    "        return oracle_circuit\n",
    "    if type == 'C' and val == '1' :\n",
    "        oracle_circuit.x(1)\n",
    "    if type == 'B' and val == 'S' :\n",
    "        oracle_circuit.cx(0, 1)\n",
    "    if type == 'B' and val == 'D' :\n",
    "        oracle_circuit.cx(0, 1)\n",
    "        oracle_circuit.x(1)\n",
    "    \n",
    "    return oracle_circuit\n",
    "    "
   ]
  },
  {
   "cell_type": "code",
   "execution_count": 16,
   "metadata": {},
   "outputs": [
    {
     "data": {
      "text/html": [
       "<pre style=\"word-wrap: normal;white-space: pre;background: #fff0;line-height: 1.1;font-family: &quot;Courier New&quot;,Courier,monospace\">     ┌───┐      ░            ░ ┌───┐┌─┐\n",
       "q_0: ┤ H ├──────░───■────────░─┤ H ├┤M├\n",
       "     ├───┤┌───┐ ░ ┌─┴─┐┌───┐ ░ └───┘└╥┘\n",
       "q_1: ┤ X ├┤ H ├─░─┤ X ├┤ X ├─░───────╫─\n",
       "     └───┘└───┘ ░ └───┘└───┘ ░       ║ \n",
       "c: 1/════════════════════════════════╩═\n",
       "                                     0 </pre>"
      ],
      "text/plain": [
       "     ┌───┐      ░            ░ ┌───┐┌─┐\n",
       "q_0: ┤ H ├──────░───■────────░─┤ H ├┤M├\n",
       "     ├───┤┌───┐ ░ ┌─┴─┐┌───┐ ░ └───┘└╥┘\n",
       "q_1: ┤ X ├┤ H ├─░─┤ X ├┤ X ├─░───────╫─\n",
       "     └───┘└───┘ ░ └───┘└───┘ ░       ║ \n",
       "c: 1/════════════════════════════════╩═\n",
       "                                     0 "
      ]
     },
     "execution_count": 16,
     "metadata": {},
     "output_type": "execute_result"
    }
   ],
   "source": [
    "# define quantum circuit with multiple qubits but one classical bit\n",
    "qc = QuantumCircuit(2, 1)\n",
    "qc.h(0)\n",
    "qc.x(1)\n",
    "qc.h(1)\n",
    "qc.barrier()\n",
    "#qc = qc + oracle_DJZ1('C', '0') # for f(x) = 0 constant\n",
    "#qc = qc + oracle_DJZ1('C', '1') # for f(x) = 1 constant\n",
    "#qc = qc + oracle_DJZ1('B', 'S') # for f(x) = x balance\n",
    "qc = qc + oracle_DJZ1('B', 'D') # for f(x) = not(x) balance\n",
    "qc.barrier()\n",
    "qc.h(0)\n",
    "qc.measure(0,0)\n",
    "qc.draw()"
   ]
  },
  {
   "cell_type": "code",
   "execution_count": 17,
   "metadata": {},
   "outputs": [
    {
     "data": {
      "image/png": "[encoded data removed]",
      "text/plain": [
       "<Figure size 504x360 with 1 Axes>"
      ]
     },
     "execution_count": 17,
     "metadata": {},
     "output_type": "execute_result"
    }
   ],
   "source": [
    "bkend = BasicAer.get_backend('qasm_simulator')\n",
    "job = execute(qc, bkend, shots=1000)\n",
    "counts = job.result().get_counts(qc)\n",
    "plot_histogram(counts)"
   ]
  },
  {
   "cell_type": "code",
   "execution_count": 18,
   "metadata": {},
   "outputs": [],
   "source": [
    "def oracle_DJZM(num, type, val):\n",
    "    oracle_circuit = QuantumCircuit(num + 1, num)\n",
    "    if type == 'C' and val == '0' :\n",
    "        return oracle_circuit\n",
    "    if type == 'C' and val == '1' :\n",
    "        oracle_circuit.x(num)\n",
    "    if type == 'B' and val == 'S' :\n",
    "        oracle_circuit.cx(num-1, num)\n",
    "    if type == 'B' and val == 'D' :\n",
    "        oracle_circuit.cx(num-1, num)\n",
    "        oracle_circuit.x(num)\n",
    "    \n",
    "    return oracle_circuit"
   ]
  },
  {
   "cell_type": "code",
   "execution_count": 19,
   "metadata": {},
   "outputs": [
    {
     "data": {
      "text/html": [
       "<pre style=\"word-wrap: normal;white-space: pre;background: #fff0;line-height: 1.1;font-family: &quot;Courier New&quot;,Courier,monospace\">     ┌───┐      ░  ░ ┌───┐┌─┐      \n",
       "q_0: ┤ H ├──────░──░─┤ H ├┤M├──────\n",
       "     ├───┤      ░  ░ ├───┤└╥┘┌─┐   \n",
       "q_1: ┤ H ├──────░──░─┤ H ├─╫─┤M├───\n",
       "     ├───┤      ░  ░ ├───┤ ║ └╥┘┌─┐\n",
       "q_2: ┤ H ├──────░──░─┤ H ├─╫──╫─┤M├\n",
       "     ├───┤┌───┐ ░  ░ └───┘ ║  ║ └╥┘\n",
       "q_3: ┤ X ├┤ H ├─░──░───────╫──╫──╫─\n",
       "     └───┘└───┘ ░  ░       ║  ║  ║ \n",
       "c: 3/══════════════════════╩══╩══╩═\n",
       "                           0  1  2 </pre>"
      ],
      "text/plain": [
       "     ┌───┐      ░  ░ ┌───┐┌─┐      \n",
       "q_0: ┤ H ├──────░──░─┤ H ├┤M├──────\n",
       "     ├───┤      ░  ░ ├───┤└╥┘┌─┐   \n",
       "q_1: ┤ H ├──────░──░─┤ H ├─╫─┤M├───\n",
       "     ├───┤      ░  ░ ├───┤ ║ └╥┘┌─┐\n",
       "q_2: ┤ H ├──────░──░─┤ H ├─╫──╫─┤M├\n",
       "     ├───┤┌───┐ ░  ░ └───┘ ║  ║ └╥┘\n",
       "q_3: ┤ X ├┤ H ├─░──░───────╫──╫──╫─\n",
       "     └───┘└───┘ ░  ░       ║  ║  ║ \n",
       "c: 3/══════════════════════╩══╩══╩═\n",
       "                           0  1  2 "
      ]
     },
     "execution_count": 19,
     "metadata": {},
     "output_type": "execute_result"
    }
   ],
   "source": [
    "# many to one mapping f(x) -> {0, 1}^n -> {0, 1},  the LSB is the outcome.  \n",
    "num = 3\n",
    "qc = QuantumCircuit(num+1, num)\n",
    "qc.h(range(num))\n",
    "qc.x(num)\n",
    "qc.h(num)\n",
    "qc.barrier()\n",
    "\n",
    "# Call oracle by uncommenting one of four lines of code  \n",
    "qc = qc + oracle_DJZM(num, 'C', '0') # for f(x) = 0, constant \n",
    "#qc = qc + oracle_DJZM(num, 'C', '1') # for f(x) = 1, constant\n",
    "#qc = qc + oracle_DJZM(num, 'B', 'S') # for f(x) = x, balanced \n",
    "#qc = qc + oracle_DJZM(num, 'B', 'D') # for f(x) = not(x), balanced\n",
    "\n",
    "\n",
    "qc.barrier()\n",
    "qc.h(range(num))\n",
    "qc.measure(range(num), range(num))\n",
    "qc.draw()"
   ]
  },
  {
   "cell_type": "code",
   "execution_count": 20,
   "metadata": {},
   "outputs": [
    {
     "data": {
      "image/png": "[encoded data removed]",
      "text/plain": [
       "<Figure size 504x360 with 1 Axes>"
      ]
     },
     "execution_count": 20,
     "metadata": {},
     "output_type": "execute_result"
    }
   ],
   "source": [
    "bkend = BasicAer.get_backend('qasm_simulator')\n",
    "job = execute(qc, bkend, shots=100)\n",
    "counts = job.result().get_counts(qc)\n",
    "plot_histogram(counts)"
   ]
  },
  {
   "cell_type": "code",
   "execution_count": 13,
   "metadata": {},
   "outputs": [],
   "source": [
    "# end of program"
   ]
  },
  {
   "cell_type": "code",
   "execution_count": null,
   "metadata": {},
   "outputs": [],
   "source": []
  }
 ],
 "metadata": {
  "kernelspec": {
   "display_name": "Python 3",
   "language": "python",
   "name": "python3"
  },
  "language_info": {
   "codemirror_mode": {
    "name": "ipython",
    "version": 3
   },
   "file_extension": ".py",
   "mimetype": "text/x-python",
   "name": "python",
   "nbconvert_exporter": "python",
   "pygments_lexer": "ipython3",
   "version": "3.8.5"
  }
 },
 "nbformat": 4,
 "nbformat_minor": 4
}
