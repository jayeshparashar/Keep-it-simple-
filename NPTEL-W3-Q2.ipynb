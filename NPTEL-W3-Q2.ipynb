{
 "cells": [
  {
   "cell_type": "code",
   "execution_count": 15,
   "metadata": {},
   "outputs": [],
   "source": [
    "from qiskit import Aer, execute, QuantumCircuit\n",
    "from qiskit.quantum_info import Statevector"
   ]
  },
  {
   "cell_type": "code",
   "execution_count": 16,
   "metadata": {},
   "outputs": [
    {
     "data": {
      "text/html": [
       "<pre style=\"word-wrap: normal;white-space: pre;background: #fff0;line-height: 1.1;font-family: &quot;Courier New&quot;,Courier,monospace\">           ░ ┌───┐ ░       ░       ░      \n",
       "q_0: ──────░─┤ H ├─░───■───░───────░──────\n",
       "     ┌───┐ ░ └───┘ ░   │   ░       ░      \n",
       "q_1: ┤ X ├─░───────░───┼───░───■───░──────\n",
       "     └───┘ ░ ┌───┐ ░   │   ░   │   ░      \n",
       "q_2: ──────░─┤ H ├─░───┼───░───■───░───■──\n",
       "     ┌───┐ ░ ├───┤ ░ ┌─┴─┐ ░ ┌─┴─┐ ░ ┌─┴─┐\n",
       "q_3: ┤ X ├─░─┤ H ├─░─┤ X ├─░─┤ X ├─░─┤ X ├\n",
       "     └───┘ ░ └───┘ ░ └───┘ ░ └───┘ ░ └───┘</pre>"
      ],
      "text/plain": [
       "           ░ ┌───┐ ░       ░       ░      \n",
       "q_0: ──────░─┤ H ├─░───■───░───────░──────\n",
       "     ┌───┐ ░ └───┘ ░   │   ░       ░      \n",
       "q_1: ┤ X ├─░───────░───┼───░───■───░──────\n",
       "     └───┘ ░ ┌───┐ ░   │   ░   │   ░      \n",
       "q_2: ──────░─┤ H ├─░───┼───░───■───░───■──\n",
       "     ┌───┐ ░ ├───┤ ░ ┌─┴─┐ ░ ┌─┴─┐ ░ ┌─┴─┐\n",
       "q_3: ┤ X ├─░─┤ H ├─░─┤ X ├─░─┤ X ├─░─┤ X ├\n",
       "     └───┘ ░ └───┘ ░ └───┘ ░ └───┘ ░ └───┘"
      ]
     },
     "execution_count": 16,
     "metadata": {},
     "output_type": "execute_result"
    }
   ],
   "source": [
    "# Question 2 - Compare the statevectors obtained from question circuit and MCO's \n",
    "qc_q2 = QuantumCircuit(4)\n",
    "qc_q2.x([1,3])\n",
    "qc_q2.barrier()\n",
    "qc_q2.h([0,2,3])\n",
    "qc_q2.barrier()\n",
    "qc_q2.cx(0,3)\n",
    "qc_q2.barrier()\n",
    "qc_q2.ccx(1,2,3)\n",
    "qc_q2.barrier()\n",
    "qc_q2.cx(2,3)\n",
    "qc_q2.draw()"
   ]
  },
  {
   "cell_type": "code",
   "execution_count": 17,
   "metadata": {},
   "outputs": [
    {
     "data": {
      "text/plain": [
       "array([ 0.        +0.00000000e+00j,  0.        +0.00000000e+00j,\n",
       "        0.35355339-4.32978028e-17j, -0.35355339+4.32978028e-17j,\n",
       "        0.        +0.00000000e+00j,  0.        +0.00000000e+00j,\n",
       "        0.35355339-4.32978028e-17j, -0.35355339+4.32978028e-17j,\n",
       "        0.        +0.00000000e+00j,  0.        +0.00000000e+00j,\n",
       "       -0.35355339+4.32978028e-17j,  0.35355339-4.32978028e-17j,\n",
       "        0.        +0.00000000e+00j,  0.        +0.00000000e+00j,\n",
       "       -0.35355339+4.32978028e-17j,  0.35355339-4.32978028e-17j])"
      ]
     },
     "execution_count": 17,
     "metadata": {},
     "output_type": "execute_result"
    }
   ],
   "source": [
    "# calcualte the statevector from question circuit \n",
    "backend = Aer.get_backend('statevector_simulator')\n",
    "job = execute(qc_q2, backend=backend)\n",
    "sv_q =  job.result().get_statevector()\n",
    "sv_q"
   ]
  },
  {
   "cell_type": "code",
   "execution_count": 12,
   "metadata": {},
   "outputs": [
    {
     "data": {
      "text/plain": [
       "<qiskit.circuit.instructionset.InstructionSet at 0x281faf325b0>"
      ]
     },
     "execution_count": 12,
     "metadata": {},
     "output_type": "execute_result"
    }
   ],
   "source": [
    "# build a circuit and calcualte the statevector from  option #1 in answer \n",
    "qc_a2 = QuantumCircuit(4)\n",
    "qc_a2.x(0); qc_a2.h(0)\n",
    "qc_a2.x(1) \n",
    "qc_a2.h(2)\n",
    "qc_a2.x(3) ; qc_a2.h(3)"
   ]
  },
  {
   "cell_type": "code",
   "execution_count": 18,
   "metadata": {},
   "outputs": [
    {
     "data": {
      "text/plain": [
       "array([ 0.        +0.00000000e+00j,  0.        +0.00000000e+00j,\n",
       "        0.35355339+0.00000000e+00j, -0.35355339-4.32978028e-17j,\n",
       "        0.        +0.00000000e+00j,  0.        +0.00000000e+00j,\n",
       "        0.35355339+0.00000000e+00j, -0.35355339-4.32978028e-17j,\n",
       "        0.        +0.00000000e+00j,  0.        +0.00000000e+00j,\n",
       "       -0.35355339-4.32978028e-17j,  0.35355339+8.65956056e-17j,\n",
       "        0.        +0.00000000e+00j,  0.        +0.00000000e+00j,\n",
       "       -0.35355339-4.32978028e-17j,  0.35355339+8.65956056e-17j])"
      ]
     },
     "execution_count": 18,
     "metadata": {},
     "output_type": "execute_result"
    }
   ],
   "source": [
    "backend = Aer.get_backend('statevector_simulator')\n",
    "job = execute(qc1, backend=backend)\n",
    "sv_a =  job.result().get_statevector()\n",
    "sv_a"
   ]
  },
  {
   "cell_type": "code",
   "execution_count": 19,
   "metadata": {},
   "outputs": [
    {
     "name": "stdout",
     "output_type": "stream",
     "text": [
      "1.0000000000000009\n"
     ]
    }
   ],
   "source": [
    "#check if statevectors are eqaul\n",
    "from qiskit.quantum_info import state_fidelity\n",
    "print(state_fidelity(sv_q, sv_a))"
   ]
  },
  {
   "cell_type": "code",
   "execution_count": null,
   "metadata": {},
   "outputs": [],
   "source": []
  }
 ],
 "metadata": {
  "kernelspec": {
   "display_name": "Python 3",
   "language": "python",
   "name": "python3"
  },
  "language_info": {
   "codemirror_mode": {
    "name": "ipython",
    "version": 3
   },
   "file_extension": ".py",
   "mimetype": "text/x-python",
   "name": "python",
   "nbconvert_exporter": "python",
   "pygments_lexer": "ipython3",
   "version": "3.8.5"
  }
 },
 "nbformat": 4,
 "nbformat_minor": 4
}
