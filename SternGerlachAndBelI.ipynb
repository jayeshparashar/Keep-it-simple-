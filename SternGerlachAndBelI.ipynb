{
 "cells": [
  {
   "cell_type": "code",
   "execution_count": 134,
   "metadata": {},
   "outputs": [],
   "source": [
    "from qiskit import QuantumCircuit, QuantumRegister, ClassicalRegister, Aer, execute\n",
    "from qiskit.visualization import plot_histogram, plot_bloch_multivector, plot_state_qsphere\n",
    "import numpy as np"
   ]
  },
  {
   "cell_type": "code",
   "execution_count": 135,
   "metadata": {},
   "outputs": [
    {
     "data": {
      "text/html": [
       "<pre style=\"word-wrap: normal;white-space: pre;background: #fff0;line-height: 1.1;font-family: &quot;Courier New&quot;,Courier,monospace\">     ┌───┐     \n",
       "q_0: ┤ H ├──■──\n",
       "     └───┘┌─┴─┐\n",
       "q_1: ─────┤ X ├\n",
       "          └───┘\n",
       "c: 2/══════════\n",
       "               </pre>"
      ],
      "text/plain": [
       "     ┌───┐     \n",
       "q_0: ┤ H ├──■──\n",
       "     └───┘┌─┴─┐\n",
       "q_1: ─────┤ X ├\n",
       "          └───┘\n",
       "c: 2/══════════\n",
       "               "
      ]
     },
     "execution_count": 135,
     "metadata": {},
     "output_type": "execute_result"
    }
   ],
   "source": [
    "#lets start with creating a maximally entangled photon pair \n",
    "qc = QuantumCircuit(2, 2)\n",
    "qc.h(0)  # put first photon in superpositon \n",
    "qc.cx(0, 1)\n",
    "qc.draw()"
   ]
  },
  {
   "cell_type": "code",
   "execution_count": 136,
   "metadata": {},
   "outputs": [
    {
     "name": "stdout",
     "output_type": "stream",
     "text": [
      "[0.70710678+0.j 0.        +0.j 0.        +0.j 0.70710678+0.j]\n"
     ]
    }
   ],
   "source": [
    "# lets check the statevector\n",
    "bkend =Aer.get_backend('statevector_simulator')\n",
    "job = execute(qc, bkend)\n",
    "sv = job.result().get_statevector(qc, decimals=3)\n",
    "print(sv)"
   ]
  },
  {
   "cell_type": "code",
   "execution_count": 137,
   "metadata": {},
   "outputs": [
    {
     "data": {
      "text/html": [
       "<pre style=\"word-wrap: normal;white-space: pre;background: #fff0;line-height: 1.1;font-family: &quot;Courier New&quot;,Courier,monospace\">     ┌───┐     ┌───┐\n",
       "q_0: ┤ H ├──■──┤ H ├\n",
       "     └───┘┌─┴─┐├───┤\n",
       "q_1: ─────┤ X ├┤ H ├\n",
       "          └───┘└───┘\n",
       "c: 2/═══════════════\n",
       "                    </pre>"
      ],
      "text/plain": [
       "     ┌───┐     ┌───┐\n",
       "q_0: ┤ H ├──■──┤ H ├\n",
       "     └───┘┌─┴─┐├───┤\n",
       "q_1: ─────┤ X ├┤ H ├\n",
       "          └───┘└───┘\n",
       "c: 2/═══════════════\n",
       "                    "
      ]
     },
     "execution_count": 137,
     "metadata": {},
     "output_type": "execute_result"
    }
   ],
   "source": [
    "# Create entangled photon pair and measure it in X basis , results are same\n",
    "qc = QuantumCircuit(2, 2)\n",
    "qc.h(0)  # put first photon in superpositon \n",
    "qc.cx(0, 1)\n",
    "qc.h([0,1])\n",
    "qc.draw()"
   ]
  },
  {
   "cell_type": "code",
   "execution_count": 138,
   "metadata": {},
   "outputs": [
    {
     "name": "stdout",
     "output_type": "stream",
     "text": [
      "[0.70710678-8.65956056e-17j 0.        +8.65956056e-17j\n",
      " 0.        +8.65956056e-17j 0.70710678-8.65956056e-17j]\n"
     ]
    }
   ],
   "source": [
    "# measure and check the state vector\n",
    "bkend =Aer.get_backend('statevector_simulator')\n",
    "job = execute(qc, bkend)\n",
    "sv = job.result().get_statevector(qc, decimals=3)\n",
    "print(sv)"
   ]
  },
  {
   "cell_type": "code",
   "execution_count": 139,
   "metadata": {},
   "outputs": [
    {
     "data": {
      "image/png": "[encoded data removed]",
      "text/plain": [
       "<Figure size 504x360 with 1 Axes>"
      ]
     },
     "execution_count": 139,
     "metadata": {},
     "output_type": "execute_result"
    }
   ],
   "source": [
    "# run QASm simulator to capture measurement statistics\n",
    "qc.measure([0,1], [0,1])\n",
    "bkend = BasicAer.get_backend('qasm_simulator')\n",
    "job = execute(qc, bkend, shots=1000)\n",
    "counts = job.result().get_counts(qc)\n",
    "plot_histogram(counts)"
   ]
  },
  {
   "cell_type": "code",
   "execution_count": 140,
   "metadata": {},
   "outputs": [],
   "source": [
    "from qiskit.circuit.library import XGate, YGate, ZGate, IGate\n",
    "# Calculate an operator associated with the rotation about an arbitary axis\n",
    "def ArbRotOperator(ncap, angle):\n",
    "    Ux = XGate(); Uy =  YGate();   Uz = ZGate() ; Ui = IGate();\n",
    "# OR if you want you can define Paulis \n",
    "# Px = np.array([[0,1],[1,0]]); Py = np.array([[0,-1.j],[1.j,0]]); Pz = np.array([[1,0],[0,-1]])\n",
    "    Oper_r = np.dot(np.cos(angle/2), Ui.to_matrix()) \n",
    "    ns = ncap[0]*Ux.to_matrix() + ncap[1]*Uy.to_matrix() + ncap[2]*Uz.to_matrix()\n",
    "    Oper_i = 1.j * np.sin(angle/2)*ns\n",
    "    Oper = Oper_r - Oper_i \n",
    "    Multiplier = np.exp(1.j*np.pi/2) # take care of global phase\n",
    "    Oper = Multiplier * Oper \n",
    "    return Oper"
   ]
  },
  {
   "cell_type": "code",
   "execution_count": 141,
   "metadata": {},
   "outputs": [],
   "source": [
    "from qiskit.quantum_info.operators.operator import Operator\n",
    "# define a function to map measurement correlations while measuring in differnt bases\n",
    "def EntangCirCorrelation(ncap) :\n",
    "    qc = QuantumCircuit(2,2)\n",
    "    qc.h(0)\n",
    "    qc.cx(0,1)\n",
    "    angle = np.pi #  rotate by 180 degrees\n",
    "    cust_Oper = Operator(ArbRotOperator(ncap, np.pi))\n",
    "    qc.unitary(cust_Oper,[0],label='MB')\n",
    "    qc.measure([0,1],[0,1])\n",
    "    bkend = BasicAer.get_backend('qasm_simulator')\n",
    "    shots=2048\n",
    "    job = execute(qc, bkend, shots=shots)\n",
    "    counts = job.result().get_counts(qc)\n",
    "#    print(counts)\n",
    "    if '00' in counts.keys() and '11' in counts.keys() :  \n",
    "        cor = (counts.get(\"00\") + counts.get(\"11\")) / shots\n",
    "    else :\n",
    "        cor = 0\n",
    "    return cor"
   ]
  },
  {
   "cell_type": "code",
   "execution_count": 151,
   "metadata": {},
   "outputs": [],
   "source": [
    "# define arrays for quantum and classical plots\n",
    "x_q=[]\n",
    "y_q=[]\n",
    "x_c=[]\n",
    "y_c=[]\n",
    "\n",
    "num_orientation = 36 # number of measurement basis in a full cycle  \n",
    "\n",
    "for iter in range(num_orientation+1):   # move from measurement along Z axis to measurement along the X axis\n",
    "    p_angle = iter * (np.pi/num_orientation)   \n",
    "    # determine angle in radians to get corrdinates of arbitary axis and calculate rotational matrix \n",
    "    ncap = np.array([np.sin(p_angle), 0, np.cos(p_angle)])\n",
    "    y_q.append(EntangCirCorrelation(ncap))\n",
    "    x_angle = p_angle * 180/np.pi # get angle in degrees\n",
    "    x_q.append(x_angle)  # store angle in X array for plotting\n",
    "    x_c.append(x_angle) \n",
    "    # linear relations in classical case\n",
    "    if x_angle <= 90 :\n",
    "        y_c.append(1-1/90*(x_angle))\n",
    "    else :\n",
    "        y_c.append((x_angle-90)/90)\n",
    "      "
   ]
  },
  {
   "cell_type": "code",
   "execution_count": 152,
   "metadata": {},
   "outputs": [
    {
     "data": {
      "image/png": "[encoded data removed]",
      "text/plain": [
       "<Figure size 432x288 with 1 Axes>"
      ]
     },
     "metadata": {
      "needs_background": "light"
     },
     "output_type": "display_data"
    }
   ],
   "source": [
    "# plot classical predictions vs. quantum observations. take note of values at angles of22.5, 67.5,112.5 and 157.5 Degrees\n",
    "import matplotlib.pyplot as plt\n",
    "plt.plot(x_c, y_c)\n",
    "plt.plot(x_q, y_q)\n",
    "plt.xlabel('Angle of polarization ')\n",
    "plt.ylabel('Correlation in result ')\n",
    "plt.title(' Correlation Plot')\n",
    "plt.legend([\"Classical\", \"Quantum\"])\n",
    "plt.show()"
   ]
  },
  {
   "cell_type": "code",
   "execution_count": null,
   "metadata": {},
   "outputs": [],
   "source": [
    "# end of program"
   ]
  }
 ],
 "metadata": {
  "kernelspec": {
   "display_name": "Python 3",
   "language": "python",
   "name": "python3"
  },
  "language_info": {
   "codemirror_mode": {
    "name": "ipython",
    "version": 3
   },
   "file_extension": ".py",
   "mimetype": "text/x-python",
   "name": "python",
   "nbconvert_exporter": "python",
   "pygments_lexer": "ipython3",
   "version": "3.8.5"
  }
 },
 "nbformat": 4,
 "nbformat_minor": 4
}
