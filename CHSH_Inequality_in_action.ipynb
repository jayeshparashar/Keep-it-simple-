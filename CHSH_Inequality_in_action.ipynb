{
 "cells": [
  {
   "cell_type": "markdown",
   "metadata": {},
   "source": [
    "CHSH(Clauser, Horne, Shimony, and Holt) inequality in action, exmaple coded in Qiskit "
   ]
  },
  {
   "cell_type": "code",
   "execution_count": 1,
   "metadata": {},
   "outputs": [],
   "source": [
    "from qiskit import QuantumCircuit, QuantumRegister, ClassicalRegister, Aer, execute\n",
    "from qiskit.visualization import plot_histogram, plot_bloch_multivector, plot_state_qsphere\n",
    "import numpy as np\n",
    "from numpy.random import randint"
   ]
  },
  {
   "cell_type": "markdown",
   "metadata": {},
   "source": [
    "This code implements a program to solve an excersize mentioned in qiksit CHSH demo page at \n",
    "https://qiskit.org/textbook/ch-demos/chsh.html\n",
    "\n",
    "It is an attemp to prove tha quantum tools enable us to go beyond the reach of classical algorithms. Here we quantify the correlations and see that the correlations we can get using entanglement can never be obtained by classical methods. \n",
    "\n",
    "IN the given Game Alice and Bob are put in separate rooms and they are given a bit 'X' and 'Y' respectively. These bits are chosen at random and independent of each other. \n",
    "\n",
    "On receiving the given bit, each of them replies with a bit of their own -  'a' and 'b'.\n",
    "\n",
    "Now the Winning condition for Alice and Bob are -\n",
    "\n",
    "    'a' should NOT-Equals to 'b'  if bits provided to them X = Y = 1\n",
    "    \n",
    "    'a' EQUALs to 'b'  if (NOT(X = Y = 1)) \n",
    "\n",
    "We will first implement a  best classical algorithm/method that will maximize the chance of win for  Alice and Bob. \n"
   ]
  },
  {
   "cell_type": "code",
   "execution_count": 2,
   "metadata": {},
   "outputs": [],
   "source": [
    "# define N as number of bits to be shared among Alice and Bob.\n",
    "N = 1000\n",
    "\n",
    "# let's generate N pairs of random numbers X,Y   \n",
    "bits_array = randint(0, 2, size=(N,2))"
   ]
  },
  {
   "cell_type": "markdown",
   "metadata": {},
   "source": [
    "Given two random bits 'X' and 'Y' respectively to Alice and Bob, in order to maximize thier probability to win the game, Alice and Bob decides to always respond with a = b, that way they will win the game for approx. 75% of times "
   ]
  },
  {
   "cell_type": "code",
   "execution_count": 3,
   "metadata": {},
   "outputs": [
    {
     "name": "stdout",
     "output_type": "stream",
     "text": [
      "766\n"
     ]
    }
   ],
   "source": [
    "a = 1\n",
    "b = 1\n",
    "result = 0\n",
    "for i in range(N) :\n",
    "    X = bits_array[i][0]\n",
    "    Y = bits_array[i][1]\n",
    "    # check for winning conditions\n",
    "    if X == 1 and Y == 1 and a != b :\n",
    "        result += 1    # increase the Win counter\n",
    "    if not(X == 1 and Y == 1) and a == b :\n",
    "        result += 1    # increase the Win counter\n",
    "\n",
    "print(result)"
   ]
  },
  {
   "cell_type": "markdown",
   "metadata": {},
   "source": [
    "Let's see how Quantum tools can increas chances of winning this game for Alice and Bob,  given they are allowed to share a qubit from a maximally entangled two-qubit system 1/√2(|0⟩ +|1⟩). The below program describes an strategy that Alice and Bob adopt to increase their chances to win game, here they obtain the responding bits 'a' and 'b' by measuring thier entangled qubit.\n",
    "\n",
    "They decides beforehand that Alice will only measure her qubit in eiter Z OR X basis and Bob will only measure his qubit in eiter Z+X OR Z-X basis, Also they decides that thier decision to chose  a measurement basis will depend on bits X (Alice) and Y (Bob). They decide that -\n",
    "\n",
    "For X=0, Alice will measures her qubit (which is part of an entangled pair) along the Z axis and for X=1, she would measures her qubit along the X axis.\n",
    "\n",
    "For Y=0, Bob will measures his qubit ((which is another part of same entangled pair) along the Z+X axis and for Y=1, Bob would measures his qubit along the Z-X axis.\n"
   ]
  },
  {
   "cell_type": "code",
   "execution_count": 4,
   "metadata": {},
   "outputs": [
    {
     "name": "stdout",
     "output_type": "stream",
     "text": [
      "852\n"
     ]
    }
   ],
   "source": [
    "# Let's see how this new strategy help alice and bob win more.\n",
    "\n",
    "a = 0\n",
    "b = 0\n",
    "result = 0  # Set result counter to zero\n",
    "for i in range(N) :\n",
    "    # Alice will be given X bit and Bob will be given Y bit\n",
    "    X = bits_array[i][0]\n",
    "    Y = bits_array[i][1]\n",
    "    \n",
    "    # build a quantumcircuit to generate maximally entangled qubit pair  \n",
    "    qc = QuantumCircuit(2, 2) \n",
    "    qc.h(0)\n",
    "    qc.cx(0,1)\n",
    "    \n",
    "    # based on a predefined strategy Alice will only measure her qubit in eiter Z OR X basis\n",
    "    if X == 0 :\n",
    "        qc.i(1)  # For X=0 Alice measures her entagled qubit along the Z axis \n",
    "    if X == 1 : \n",
    "        qc.h(1)  # For X=1 Alice measures her entagled qubit along the X axis \n",
    "\n",
    "    # based on a predefined strategy Bob will only measure his qubit in eiter Z+X OR Z-X basis\n",
    "    if Y == 0 :\n",
    "        qc.ry((-np.pi/4), 0)  # For Y=0 Bob measures his entagled qubit along the Z+X axis \n",
    "    if Y == 1 : \n",
    "        qc.ry((np.pi/4), 0)  # For Y=1 Bob measures his entagled qubit along the Z-X axis \n",
    "\n",
    "    qc.measure([0,1], [0,1])\n",
    "    bkend = Aer.get_backend('qasm_simulator')\n",
    "    job = execute(qc, bkend, shots=1)\n",
    "    counts = job.result().get_counts(qc)\n",
    "#    print(counts)\n",
    "    retvalues = list(counts.keys())[0]\n",
    "    a, b = retvalues[0], retvalues[1]\n",
    " \n",
    "    # Check winning conditions   \n",
    "    if X == 1 and Y == 1 and a != b :\n",
    "        result += 1          # add 1 to win count\n",
    "    if not(X == 1 and Y == 1) and a == b :\n",
    "        result += 1          # add 1 to win count\n",
    "\n",
    "print(result)   "
   ]
  },
  {
   "cell_type": "markdown",
   "metadata": {},
   "source": [
    "Hurray!! Alice and Bob have increased their chances to WIN game by almost 10% (85%)"
   ]
  },
  {
   "cell_type": "markdown",
   "metadata": {},
   "source": [
    "Below I have created four routines that may help understand usage of understand different measurement basis "
   ]
  },
  {
   "cell_type": "code",
   "execution_count": 5,
   "metadata": {},
   "outputs": [],
   "source": [
    "def Meas_for_00():\n",
    "    qr = QuantumRegister(2)\n",
    "    cr = ClassicalRegister(2)\n",
    "    qc_00 = QuantumCircuit(qr, cr)\n",
    "    qc_00.h(0)\n",
    "    qc_00.cx(0,1)  # create maximally entangled state with two qubits\n",
    "\n",
    "    # use two measurement basis apart by 45 degrees on bloch sphere give rise to obtain equal outputs 85% times \n",
    "    qc_00.ry((-np.pi/4), 0)  # For X=0 Bob measures his entagled qubit along the Z+X axis \n",
    "    #qc_00.h(1) # comment Hadamard as for Y = 0 Alice measures her entangled qubit along the Z axis\n",
    "    qc_00.measure([0,1], [0,1])\n",
    "    bkend = Aer.get_backend('qasm_simulator')\n",
    "    job = execute(qc_00, bkend, shots=shots)\n",
    "    counts = job.result().get_counts(qc_00)\n",
    "    retvalues = list(counts.keys())[0]\n",
    "    print(retvalues[0], retvalues[1])\n",
    "    print(counts)\n",
    "    return retvalues[0], retvalues[1]"
   ]
  },
  {
   "cell_type": "code",
   "execution_count": 6,
   "metadata": {},
   "outputs": [],
   "source": [
    "def Meas_for_01():\n",
    "    qr = QuantumRegister(2)\n",
    "    cr = ClassicalRegister(2)\n",
    "    qc_01 = QuantumCircuit(qr, cr)\n",
    "    qc_01.h(0)\n",
    "    qc_01.cx(0,1)  # create maximally entangled state with two qubits\n",
    "    \n",
    "    # use two measurement basis apart by 45 degrees on bloch sphere give rise to obtain equal outputs 85% times \n",
    "    qc_01.ry((-np.pi/4), 0)  # For X=1 Bob measures his entagled qubit along the Z+X axis \n",
    "    qc_01.h(1) # for Y = 0 Alice measures her entangled qubit along the X axis\n",
    "    qc_01.measure([0,1], [0,1])\n",
    "    bkend = Aer.get_backend('qasm_simulator')\n",
    "    job = execute(qc_01, bkend, shots=shots)\n",
    "    counts = job.result().get_counts(qc_01)\n",
    "    retvalues = list(counts.keys())[0]\n",
    "    print(retvalues[0], retvalues[1])\n",
    "    print(counts)\n",
    "    return retvalues[0], retvalues[1]"
   ]
  },
  {
   "cell_type": "code",
   "execution_count": 7,
   "metadata": {},
   "outputs": [],
   "source": [
    "def Meas_for_10():\n",
    "    qr = QuantumRegister(2)\n",
    "    cr = ClassicalRegister(2)\n",
    "    qc_10 = QuantumCircuit(qr, cr)\n",
    "    qc_10.h(0)\n",
    "    qc_10.cx(0,1)  # create maximally entangled state with two qubits\n",
    "\n",
    "    # use two measurement basis apart by 45 degrees on bloch sphere give rise to obtain equal outputs 85% times \n",
    "    qc_10.ry((np.pi/4), 0)  # For X=0 Bob measures his entagled qubit along the Z-X axis \n",
    "    #qc_01.h(1) # comment Hadamard as for Y = 1 Alice measures her entangled qubit along the Z axis\n",
    "    qc_10.measure([0,1], [0,1])\n",
    "    bkend = Aer.get_backend('qasm_simulator')\n",
    "    job = execute(qc_10, bkend, shots=shots)\n",
    "    counts = job.result().get_counts(qc_10)\n",
    "    retvalues = list(counts.keys())[0]\n",
    "    print(retvalues[0], retvalues[1])\n",
    "    print(counts)\n",
    "    return retvalues[0], retvalues[1]"
   ]
  },
  {
   "cell_type": "code",
   "execution_count": 8,
   "metadata": {},
   "outputs": [],
   "source": [
    "def Meas_for_11():\n",
    "    qr = QuantumRegister(2)\n",
    "    cr = ClassicalRegister(2)\n",
    "    qc_11 = QuantumCircuit(qr, cr)\n",
    "    qc_11.h(0)\n",
    "    qc_11.cx(0,1)   # create maximally entangled state with two qubits\n",
    "    \n",
    "    # use two measurement basis apart by 135 degrees on bloch sphere give rise to opposite outputs 85% times\n",
    "    qc_11.ry(np.pi/4, 0)  # For X=1  Bob measures entagled qubit along the Z-X axis \n",
    "    qc_11.h(1) # For Y = 1 Alice measures entagled qubit along the X axis\n",
    "    qc_11.measure([0,1], [0,1])\n",
    "    bkend = Aer.get_backend('qasm_simulator')\n",
    "    job = execute(qc_11, bkend, shots=shots)\n",
    "    counts = job.result().get_counts(qc_11)\n",
    "    retvalues = list(counts.keys())[0]\n",
    "    print(retvalues[0], retvalues[1])\n",
    "    print(counts)\n",
    "    return retvalues[0], retvalues[1]"
   ]
  },
  {
   "cell_type": "code",
   "execution_count": 9,
   "metadata": {},
   "outputs": [
    {
     "name": "stdout",
     "output_type": "stream",
     "text": [
      "0 0\n",
      "{'00': 1}\n",
      "('0', '0')\n",
      "0 0\n",
      "{'00': 1}\n",
      "('0', '0')\n",
      "1 1\n",
      "{'11': 1}\n",
      "('1', '1')\n",
      "0 1\n",
      "{'01': 1}\n",
      "('0', '1')\n"
     ]
    }
   ],
   "source": [
    "# print differnt results, if you want to increase the number of shots then return the dict key with maximum count\n",
    "shots = 1\n",
    "print(Meas_for_00())\n",
    "print(Meas_for_01())\n",
    "print(Meas_for_10())\n",
    "print(Meas_for_11())"
   ]
  },
  {
   "cell_type": "code",
   "execution_count": null,
   "metadata": {},
   "outputs": [],
   "source": [
    "# end of program"
   ]
  }
 ],
 "metadata": {
  "kernelspec": {
   "display_name": "Python 3",
   "language": "python",
   "name": "python3"
  },
  "language_info": {
   "codemirror_mode": {
    "name": "ipython",
    "version": 3
   },
   "file_extension": ".py",
   "mimetype": "text/x-python",
   "name": "python",
   "nbconvert_exporter": "python",
   "pygments_lexer": "ipython3",
   "version": "3.8.5"
  }
 },
 "nbformat": 4,
 "nbformat_minor": 4
}
