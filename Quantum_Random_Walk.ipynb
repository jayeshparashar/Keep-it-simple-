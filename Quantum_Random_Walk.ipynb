{
 "cells": [
  {
   "cell_type": "markdown",
   "metadata": {},
   "source": [
    "This notebook implements the Quantum Random Walk on an Integer number line, it uses the IBM's\n",
    "quantum computing SDK Qiskit to implement the algorithm, there are two methods implemnted below to perform a quantum walk step - 1) Using an operator that is later converted to gate and 2) with direct use of standard gates provided by qiskit. \n"
   ]
  },
  {
   "cell_type": "code",
   "execution_count": 7,
   "metadata": {},
   "outputs": [],
   "source": [
    "from qiskit import QuantumRegister, ClassicalRegister, QuantumCircuit, execute, Aer, IBMQ\n",
    "from qiskit.compiler import transpile, assemble\n",
    "from qiskit.visualization import plot_histogram\n",
    "import numpy as np"
   ]
  },
  {
   "cell_type": "code",
   "execution_count": 4,
   "metadata": {},
   "outputs": [],
   "source": [
    "# Define a routine to create and returns a control gate from standard qiskit gates to increment or\n",
    "# decrement input by value of  1 \n",
    "def add_sub_gate(flag, no_qubits) :\n",
    "    qc = QuantumCircuit(no_qubits)\n",
    "    cx_qubits = no_qubits - 1\n",
    "    if flag == 1 : # if flag = 1, we need gates which will add 1 to input \n",
    "        for n in range(cx_qubits) : \n",
    "            qc.mcx(list(range(0, cx_qubits - n)), cx_qubits - n)\n",
    "    else : # when flag is not 1, we need to perform a substraction by 1 \n",
    "        for n in range(cx_qubits) : \n",
    "            qc.x(range(0, cx_qubits - n)) # set control to act by 0 state\n",
    "            qc.mcx(list(range(0, cx_qubits - n)), cx_qubits - n)\n",
    "            qc.x(range(0, cx_qubits - n)) # revert control to original state\n",
    "    qc.x(0)\n",
    "    return qc.to_gate().control()  # return a control gate for increment or decrement"
   ]
  },
  {
   "cell_type": "code",
   "execution_count": 5,
   "metadata": {},
   "outputs": [
    {
     "data": {
      "text/plain": [
       "<qiskit.circuit.instructionset.InstructionSet at 0x1a04e7f9250>"
      ]
     },
     "execution_count": 5,
     "metadata": {},
     "output_type": "execute_result"
    }
   ],
   "source": [
    "# Quantum Random Walk Implemented using qiskit gates\n",
    "num_qubits =  7  # set an integer range (2**num_qubits) by chosing a number of qubits \n",
    "num_clbits = 7   # classcial register set to read output value at time of measurement\n",
    "steps = 10       # set number of steps \n",
    "\n",
    "qcr = QuantumRegister(num_qubits + 1)\n",
    "cr = ClassicalRegister(num_clbits)\n",
    "\n",
    "qc_RWalk_gates = QuantumCircuit(qcr, cr)  # define quantum circuit with gates\n",
    "\n",
    "# set the initial value of control qubit as |+i> state\n",
    "qc_RWalk_gates.h(0)\n",
    "qc_RWalk_gates.rz(np.pi/2, 0)\n",
    "\n",
    "# set the input value as a mid point on integer line from where the random moves will start\n",
    "qc_RWalk_gates.x(range(1, num_qubits))  \n",
    "\n",
    "Decr_gate = add_sub_gate(0, num_qubits)\n",
    "Incr_gate = add_sub_gate(1, num_qubits)\n",
    "\n",
    "# perform quantum walk for defined steps\n",
    "for _ in range(steps) :\n",
    "    qc_RWalk_gates.h(0)\n",
    "    qc_RWalk_gates.append(Incr_gate, range(0, num_qubits+1))\n",
    "    qc_RWalk_gates.x(0)\n",
    "    qc_RWalk_gates.append(Decr_gate, range(0, num_qubits+1))\n",
    "    qc_RWalk_gates.x(0)\n",
    "\n",
    "qc_RWalk_gates.measure(range(1, num_qubits+1), range(0, num_clbits))\n",
    "\n",
    "#qc_RWalk_gates.draw()\n"
   ]
  },
  {
   "cell_type": "code",
   "execution_count": 8,
   "metadata": {},
   "outputs": [
    {
     "name": "stdout",
     "output_type": "stream",
     "text": [
      "Execution time for Gate circuit -   17.41\n"
     ]
    },
    {
     "data": {
      "image/png": "[encoded data removed]",
      "text/plain": [
       "<Figure size 504x360 with 1 Axes>"
      ]
     },
     "execution_count": 8,
     "metadata": {},
     "output_type": "execute_result"
    }
   ],
   "source": [
    "import timeit\n",
    "start_time = timeit.default_timer()\n",
    "bkend = Aer.get_backend('qasm_simulator')\n",
    "job = execute(qc_RWalk_gates, backend=bkend, shots=1000)\n",
    "elapsed = float(\"%.2f\" %(timeit.default_timer() - start_time))\n",
    "print('Execution time for Gate circuit -  ', elapsed)\n",
    "cnt = job.result().get_counts()\n",
    "plot_histogram(cnt)"
   ]
  },
  {
   "cell_type": "code",
   "execution_count": null,
   "metadata": {},
   "outputs": [],
   "source": []
  },
  {
   "cell_type": "markdown",
   "metadata": {},
   "source": [
    "Below I have implemented an alternate method to obtain control opertions using matrix operators built to increase/decrease input by rotational vector transformations. It appears that a  standard processes to convert unitary matrix to custom gates and build-in gates (supported by  h/w) is generatig a very large sequence one and two qubit gates which eventually lead to lot more time and consumption of resources hence it may not very useful to run with real hardware.\n",
    "\n",
    "Despite it may be a good option to implement such matrix based transformation on a simulation platform that is equipped to do efficient/faster calculation on unitary/sparse matrices, I will share a similar implementaion using qutip to further study this concept.\n"
   ]
  },
  {
   "cell_type": "code",
   "execution_count": 18,
   "metadata": {},
   "outputs": [],
   "source": [
    "# Define a subroutine to create and returns a control gate  to increment or decrement input \n",
    "# by value of  1 this time using a unitary matrix opertor \n",
    "from qiskit.quantum_info.operators import Operator\n",
    "from qiskit.extensions import UnitaryGate\n",
    "def Incr_Decr_Oper(flag, no_qubits) :\n",
    "    dim=2**no_qubits\n",
    "    if flag == 0:   #  it is a decrement by 1\n",
    "        matrix = np.diag(np.ones(dim-1),1)\n",
    "        matrix[dim-1, 0] = 1\n",
    "    else : # it is a increment by 1\n",
    "        matrix = np.diag(np.ones(dim-1),-1)\n",
    "        matrix[0, dim-1] = 1\n",
    "    gate_op = Operator(matrix)\n",
    "    gate = UnitaryGate(gate_op,'Unit_Gate')\n",
    "    return gate.control()"
   ]
  },
  {
   "cell_type": "code",
   "execution_count": 19,
   "metadata": {},
   "outputs": [
    {
     "data": {
      "text/plain": [
       "<qiskit.circuit.instructionset.InstructionSet at 0x1a051837070>"
      ]
     },
     "execution_count": 19,
     "metadata": {},
     "output_type": "execute_result"
    }
   ],
   "source": [
    "# Quantum Random Walk Implemented using gates obtained from increase decrease operators \n",
    "num_qubits =  5  # set an integer range by chosing number of qubits\n",
    "num_clbits = 5   # classcial register set to read output value at measurement\n",
    "steps = 8        # set number of steps \n",
    "\n",
    "qcr = QuantumRegister(num_qubits + 1)\n",
    "cr = ClassicalRegister(num_clbits)\n",
    "qc_RWalk = QuantumCircuit(qcr, cr) # define a quantum circuit \n",
    "\n",
    "# set the initial value of control qubit as |+i> state\n",
    "qc_RWalk.h(0)\n",
    "qc_RWalk.rz(np.pi/2, 0)\n",
    "\n",
    "# set the input value as a mid point on integer line from where the random moves will start\n",
    "qc_RWalk.x(range(1, num_qubits)) \n",
    "\n",
    "Decr_Oper = Incr_Decr_Oper(0, num_qubits)\n",
    "Incr_Oper = Incr_Decr_Oper(1, num_qubits)\n",
    "\n",
    "# perform quantum walk for defined steps\n",
    "for _ in range(steps) :\n",
    "    qc_RWalk.h(0)\n",
    "    qc_RWalk.append(Incr_Oper, range(0, num_qubits+1))\n",
    "    qc_RWalk.x(0)\n",
    "    qc_RWalk.append(Decr_Oper, range(0, num_qubits+1))\n",
    "    qc_RWalk.x(0)\n",
    "\n",
    "qc_RWalk.measure(range(1, num_qubits+1), range(0, num_clbits))\n",
    "\n",
    "#qc_RWalk.draw()\n"
   ]
  },
  {
   "cell_type": "code",
   "execution_count": 20,
   "metadata": {},
   "outputs": [
    {
     "name": "stdout",
     "output_type": "stream",
     "text": [
      "Execution time for Oper circuit -   92.88\n"
     ]
    },
    {
     "data": {
      "image/png": "[encoded data removed]",
      "text/plain": [
       "<Figure size 504x360 with 1 Axes>"
      ]
     },
     "execution_count": 20,
     "metadata": {},
     "output_type": "execute_result"
    }
   ],
   "source": [
    "import timeit\n",
    "start_time = timeit.default_timer()\n",
    "bkend = Aer.get_backend('qasm_simulator')\n",
    "job1 = execute(qc_RWalk, backend=bkend, shots=100)\n",
    "elapsed = float(\"%.2f\" %(timeit.default_timer() - start_time))\n",
    "print('Execution time for Oper circuit -  ', elapsed)\n",
    "cnts = job1.result().get_counts()\n",
    "plot_histogram(cnts)"
   ]
  },
  {
   "cell_type": "code",
   "execution_count": 17,
   "metadata": {},
   "outputs": [
    {
     "data": {
      "text/html": [
       "<pre style=\"word-wrap: normal;white-space: pre;background: #fff0;line-height: 1.1;font-family: &quot;Courier New&quot;,Courier,monospace\">global phase: 5π/8\n",
       "     ┌───┐┌─────────────┐┌───┐┌──────────┐┌───┐┌─────────────┐┌───┐»\n",
       "q_0: ┤ H ├┤ RZ(0.68722) ├┤ X ├┤ RZ(-π/4) ├┤ X ├┤ RZ(-1.3008) ├┤ X ├»\n",
       "     └───┘└─────────────┘└─┬─┘└──────────┘└─┬─┘└─────────────┘└─┬─┘»\n",
       "q_1: ──────────────────────■────────────────┼───────────────────■──»\n",
       "                                            │                      »\n",
       "q_2: ───────────────────────────────────────■──────────────────────»\n",
       "                                                                   »\n",
       "«     ┌──────────────┐┌───┐┌──────────┐  ┌─────────┐            ┌───┐     »\n",
       "«q_0: ┤ RZ(-0.26998) ├┤ X ├┤ RZ(-π/2) ├──┤ RY(π/2) ├────────────┤ X ├─────»\n",
       "«     ├─────────────┬┘└─┬─┘└──┬───┬───┘┌─┴─────────┴──┐┌───┐    └─┬─┘     »\n",
       "«q_1: ┤ RZ(-3.4852) ├───┼─────┤ X ├────┤ RZ(-0.51542) ├┤ X ├──────■───────»\n",
       "«     └─────────────┘   │     └─┬─┘    └──────────────┘└─┬─┘┌────────────┐»\n",
       "«q_2: ──────────────────■───────■────────────────────────■──┤ P(-1.4707) ├»\n",
       "«                                                           └────────────┘»\n",
       "«     ┌──────────┐┌─────────┐┌─────────┐┌───┐┌─────────┐┌─────────┐┌──────────┐»\n",
       "«q_0: ┤ RZ(-π/2) ├┤ RY(π/2) ├┤ RZ(π/2) ├┤ X ├┤ RZ(π/2) ├┤ RY(π/2) ├┤ RZ(-π/2) ├»\n",
       "«     └──────────┘└─────────┘└─────────┘└─┬─┘└─────────┘└─────────┘└──────────┘»\n",
       "«q_1: ────────────────────────────────────┼────────────────────────────────────»\n",
       "«                                         │                                    »\n",
       "«q_2: ────────────────────────────────────■────────────────────────────────────»\n",
       "«                                                                              »\n",
       "«     ┌───┐ ┌────────┐ ┌─────────┐┌─────────┐┌─────────┐           »\n",
       "«q_0: ┤ X ├─┤ RZ(-π) ├─┤ RY(π/2) ├┤ P(-π/4) ├┤ RY(π/2) ├───────────»\n",
       "«     └─┬─┘┌┴────────┴┐├─────────┤└──┬───┬──┘└┬────────┤┌─────────┐»\n",
       "«q_1: ──■──┤ RZ(-π/2) ├┤ RY(π/2) ├───┤ X ├────┤ RZ(-π) ├┤ RY(π/2) ├»\n",
       "«          └──────────┘└─────────┘   └─┬─┘    └────────┘└─────────┘»\n",
       "«q_2: ─────────────────────────────────■───────────────────────────»\n",
       "«                                                                  »\n",
       "«                    ┌───┐┌──────────┐┌─────────┐┌─────────┐┌───┐┌─────────┐ »\n",
       "«q_0: ───────────────┤ X ├┤ RZ(-π/2) ├┤ RY(π/2) ├┤ RZ(π/2) ├┤ X ├┤ RZ(π/2) ├─»\n",
       "«     ┌─────────────┐└─┬─┘└──────────┘└─────────┘└─────────┘└─┬─┘└─────────┘ »\n",
       "«q_1: ┤ P(-0.44179) ├──■──────────────────────────────────────┼──────────────»\n",
       "«     └─────────────┘                                         │  ┌──────────┐»\n",
       "«q_2: ────────────────────────────────────────────────────────■──┤ RY(2π/3) ├»\n",
       "«                                                                └──────────┘»\n",
       "«       ┌─────────┐   ┌──────────┐┌───┐┌────────┐┌─────────┐┌──────────┐     »\n",
       "«q_0: ──┤ RY(π/2) ├───┤ RZ(-π/2) ├┤ X ├┤ RZ(-π) ├┤ RY(π/2) ├┤ P(-7π/8) ├──■──»\n",
       "«       └─────────┘   └──────────┘└─┬─┘└────────┘└─────────┘└──────────┘  │  »\n",
       "«q_1: ──────────────────────────────■─────────────────────────────────────┼──»\n",
       "«     ┌──────────────┐                                                  ┌─┴─┐»\n",
       "«q_2: ┤ RZ(-0.61548) ├──────────────────────────────────────────────────┤ X ├»\n",
       "«     └──────────────┘                                                  └───┘»\n",
       "«                                                                     »\n",
       "«q_0: ────────────────────────────────────────────────────────────────»\n",
       "«                                              ┌─────────┐ ┌─────────┐»\n",
       "«q_1: ──────────────────────────────────────■──┤ RY(π/2) ├─┤ RZ(π/2) ├»\n",
       "«     ┌─────────┐┌──────────┐┌───────────┐┌─┴─┐├─────────┴┐├─────────┤»\n",
       "«q_2: ┤ RZ(π/2) ├┤ RY(3π/4) ├┤ RZ(-3π/4) ├┤ X ├┤ RZ(3π/4) ├┤ RY(π/2) ├»\n",
       "«     └─────────┘└──────────┘└───────────┘└───┘└──────────┘└─────────┘»\n",
       "«                      ┌─────────┐                                       »\n",
       "«q_0: ──────────────■──┤ RY(π/2) ├───────────────────────────────────────»\n",
       "«                   │  └─────────┘                       ┌───┐┌─────────┐»\n",
       "«q_1: ──────────────┼────────────────────────────────────┤ X ├┤ RZ(π/2) ├»\n",
       "«     ┌──────────┐┌─┴─┐ ┌───────┐ ┌─────────┐┌──────────┐└─┬─┘└─────────┘»\n",
       "«q_2: ┤ RZ(-π/2) ├┤ X ├─┤ RZ(π) ├─┤ RY(π/4) ├┤ RZ(3π/4) ├──■─────────────»\n",
       "«     └──────────┘└───┘ └───────┘ └─────────┘└──────────┘                »\n",
       "«                             ┌───┐┌─────────┐┌─────────┐┌──────────┐┌───┐»\n",
       "«q_0: ────────────────────────┤ X ├┤ RZ(π/2) ├┤ RY(π/2) ├┤ RZ(-π/2) ├┤ X ├»\n",
       "«     ┌─────────┐┌───────────┐└─┬─┘└─────────┘└─────────┘└──────────┘└─┬─┘»\n",
       "«q_1: ┤ RY(π/2) ├┤ P(1.8162) ├──■──────────────────────────────────────┼──»\n",
       "«     └─────────┘└───────────┘                                         │  »\n",
       "«q_2: ─────────────────────────────────────────────────────────────────■──»\n",
       "«                                                                         »\n",
       "«     ┌─────────┐┌─────────┐┌──────────┐┌───┐┌────────┐┌─────────┐»\n",
       "«q_0: ┤ RZ(π/2) ├┤ RY(π/2) ├┤ RZ(-π/2) ├┤ X ├┤ RZ(-π) ├┤ RY(π/2) ├»\n",
       "«     └─────────┘└─────────┘└──────────┘└─┬─┘└────────┘└─────────┘»\n",
       "«q_1: ────────────────────────────────────■───────────────────────»\n",
       "«                                                                 »\n",
       "«q_2: ────────────────────────────────────────────────────────────»\n",
       "«                                                                 »\n",
       "«     ┌────────────┐┌─────────┐┌───┐┌──────────┐┌─────────┐┌─────────┐┌───┐»\n",
       "«q_0: ┤ P(-1.4726) ├┤ RY(π/2) ├┤ X ├┤ RZ(-π/2) ├┤ RY(π/2) ├┤ RZ(π/2) ├┤ X ├»\n",
       "«     └────────────┘└─────────┘└─┬─┘└──────────┘└─────────┘└─────────┘└─┬─┘»\n",
       "«q_1: ───────────────────────────■──────────────────────────────────────┼──»\n",
       "«                                                                       │  »\n",
       "«q_2: ──────────────────────────────────────────────────────────────────■──»\n",
       "«                                                                          »\n",
       "«     ┌─────────┐┌─────────┐ ┌──────────┐┌───┐ ┌────────┐┌─────────┐ »\n",
       "«q_0: ┤ RZ(π/2) ├┤ RY(π/2) ├─┤ RZ(-π/2) ├┤ X ├─┤ RZ(-π) ├┤ RY(π/2) ├─»\n",
       "«     └─────────┘└─────────┘ └──────────┘└─┬─┘┌┴────────┤├─────────┴┐»\n",
       "«q_1: ─────────────────────────────────────■──┤ RY(π/2) ├┤ RZ(-π/2) ├»\n",
       "«     ┌─────────┐┌──────────┐                 └─────────┘└──────────┘»\n",
       "«q_2: ┤ RY(π/2) ├┤ RZ(-π/2) ├────────────────────────────────────────»\n",
       "«     └─────────┘└──────────┘                                        »\n",
       "«     ┌──────────┐     ┌─────────┐                                        »\n",
       "«q_0: ┤ P(-5π/8) ├──■──┤ RY(π/2) ├────────────────────────────────────────»\n",
       "«     └──────────┘  │  └─────────┘                       ┌───┐┌──────────┐»\n",
       "«q_1: ──────────────┼────────────────────────────────────┤ X ├┤ RZ(-π/2) ├»\n",
       "«                 ┌─┴─┐┌──────────┐┌─────────┐┌─────────┐└─┬─┘└──────────┘»\n",
       "«q_2: ────────────┤ X ├┤ RZ(-π/2) ├┤ RY(π/2) ├┤ RZ(π/2) ├──■──────────────»\n",
       "«                 └───┘└──────────┘└─────────┘└─────────┘                 »\n",
       "«                          ┌───┐┌──────────┐┌─────────┐┌─────────┐┌───┐»\n",
       "«q_0: ─────────────────────┤ X ├┤ RZ(-π/2) ├┤ RY(π/2) ├┤ RZ(π/2) ├┤ X ├»\n",
       "«     ┌─────────┐┌────────┐└─┬─┘└──────────┘└─────────┘└─────────┘└─┬─┘»\n",
       "«q_1: ┤ RY(π/2) ├┤ RZ(-π) ├──■──────────────────────────────────────┼──»\n",
       "«     └─────────┘└────────┘                                         │  »\n",
       "«q_2: ──────────────────────────────────────────────────────────────■──»\n",
       "«                                                                      »\n",
       "«     ┌─────────┐┌─────────┐┌──────────┐┌───┐┌────────┐┌─────────┐┌──────────┐\n",
       "«q_0: ┤ RZ(π/2) ├┤ RY(π/2) ├┤ RZ(-π/2) ├┤ X ├┤ RZ(-π) ├┤ RY(π/2) ├┤ RZ(-π/4) ├\n",
       "«     └─────────┘└─────────┘└──────────┘└─┬─┘└────────┘└─────────┘└──────────┘\n",
       "«q_1: ────────────────────────────────────■───────────────────────────────────\n",
       "«                                                                             \n",
       "«q_2: ────────────────────────────────────────────────────────────────────────\n",
       "«                                                                             </pre>"
      ],
      "text/plain": [
       "global phase: 5π/8\n",
       "     ┌───┐┌─────────────┐┌───┐┌──────────┐┌───┐┌─────────────┐┌───┐»\n",
       "q_0: ┤ H ├┤ RZ(0.68722) ├┤ X ├┤ RZ(-π/4) ├┤ X ├┤ RZ(-1.3008) ├┤ X ├»\n",
       "     └───┘└─────────────┘└─┬─┘└──────────┘└─┬─┘└─────────────┘└─┬─┘»\n",
       "q_1: ──────────────────────■────────────────┼───────────────────■──»\n",
       "                                            │                      »\n",
       "q_2: ───────────────────────────────────────■──────────────────────»\n",
       "                                                                   »\n",
       "«     ┌──────────────┐┌───┐┌──────────┐  ┌─────────┐            ┌───┐     »\n",
       "«q_0: ┤ RZ(-0.26998) ├┤ X ├┤ RZ(-π/2) ├──┤ RY(π/2) ├────────────┤ X ├─────»\n",
       "«     ├─────────────┬┘└─┬─┘└──┬───┬───┘┌─┴─────────┴──┐┌───┐    └─┬─┘     »\n",
       "«q_1: ┤ RZ(-3.4852) ├───┼─────┤ X ├────┤ RZ(-0.51542) ├┤ X ├──────■───────»\n",
       "«     └─────────────┘   │     └─┬─┘    └──────────────┘└─┬─┘┌────────────┐»\n",
       "«q_2: ──────────────────■───────■────────────────────────■──┤ P(-1.4707) ├»\n",
       "«                                                           └────────────┘»\n",
       "«     ┌──────────┐┌─────────┐┌─────────┐┌───┐┌─────────┐┌─────────┐┌──────────┐»\n",
       "«q_0: ┤ RZ(-π/2) ├┤ RY(π/2) ├┤ RZ(π/2) ├┤ X ├┤ RZ(π/2) ├┤ RY(π/2) ├┤ RZ(-π/2) ├»\n",
       "«     └──────────┘└─────────┘└─────────┘└─┬─┘└─────────┘└─────────┘└──────────┘»\n",
       "«q_1: ────────────────────────────────────┼────────────────────────────────────»\n",
       "«                                         │                                    »\n",
       "«q_2: ────────────────────────────────────■────────────────────────────────────»\n",
       "«                                                                              »\n",
       "«     ┌───┐ ┌────────┐ ┌─────────┐┌─────────┐┌─────────┐           »\n",
       "«q_0: ┤ X ├─┤ RZ(-π) ├─┤ RY(π/2) ├┤ P(-π/4) ├┤ RY(π/2) ├───────────»\n",
       "«     └─┬─┘┌┴────────┴┐├─────────┤└──┬───┬──┘└┬────────┤┌─────────┐»\n",
       "«q_1: ──■──┤ RZ(-π/2) ├┤ RY(π/2) ├───┤ X ├────┤ RZ(-π) ├┤ RY(π/2) ├»\n",
       "«          └──────────┘└─────────┘   └─┬─┘    └────────┘└─────────┘»\n",
       "«q_2: ─────────────────────────────────■───────────────────────────»\n",
       "«                                                                  »\n",
       "«                    ┌───┐┌──────────┐┌─────────┐┌─────────┐┌───┐┌─────────┐ »\n",
       "«q_0: ───────────────┤ X ├┤ RZ(-π/2) ├┤ RY(π/2) ├┤ RZ(π/2) ├┤ X ├┤ RZ(π/2) ├─»\n",
       "«     ┌─────────────┐└─┬─┘└──────────┘└─────────┘└─────────┘└─┬─┘└─────────┘ »\n",
       "«q_1: ┤ P(-0.44179) ├──■──────────────────────────────────────┼──────────────»\n",
       "«     └─────────────┘                                         │  ┌──────────┐»\n",
       "«q_2: ────────────────────────────────────────────────────────■──┤ RY(2π/3) ├»\n",
       "«                                                                └──────────┘»\n",
       "«       ┌─────────┐   ┌──────────┐┌───┐┌────────┐┌─────────┐┌──────────┐     »\n",
       "«q_0: ──┤ RY(π/2) ├───┤ RZ(-π/2) ├┤ X ├┤ RZ(-π) ├┤ RY(π/2) ├┤ P(-7π/8) ├──■──»\n",
       "«       └─────────┘   └──────────┘└─┬─┘└────────┘└─────────┘└──────────┘  │  »\n",
       "«q_1: ──────────────────────────────■─────────────────────────────────────┼──»\n",
       "«     ┌──────────────┐                                                  ┌─┴─┐»\n",
       "«q_2: ┤ RZ(-0.61548) ├──────────────────────────────────────────────────┤ X ├»\n",
       "«     └──────────────┘                                                  └───┘»\n",
       "«                                                                     »\n",
       "«q_0: ────────────────────────────────────────────────────────────────»\n",
       "«                                              ┌─────────┐ ┌─────────┐»\n",
       "«q_1: ──────────────────────────────────────■──┤ RY(π/2) ├─┤ RZ(π/2) ├»\n",
       "«     ┌─────────┐┌──────────┐┌───────────┐┌─┴─┐├─────────┴┐├─────────┤»\n",
       "«q_2: ┤ RZ(π/2) ├┤ RY(3π/4) ├┤ RZ(-3π/4) ├┤ X ├┤ RZ(3π/4) ├┤ RY(π/2) ├»\n",
       "«     └─────────┘└──────────┘└───────────┘└───┘└──────────┘└─────────┘»\n",
       "«                      ┌─────────┐                                       »\n",
       "«q_0: ──────────────■──┤ RY(π/2) ├───────────────────────────────────────»\n",
       "«                   │  └─────────┘                       ┌───┐┌─────────┐»\n",
       "«q_1: ──────────────┼────────────────────────────────────┤ X ├┤ RZ(π/2) ├»\n",
       "«     ┌──────────┐┌─┴─┐ ┌───────┐ ┌─────────┐┌──────────┐└─┬─┘└─────────┘»\n",
       "«q_2: ┤ RZ(-π/2) ├┤ X ├─┤ RZ(π) ├─┤ RY(π/4) ├┤ RZ(3π/4) ├──■─────────────»\n",
       "«     └──────────┘└───┘ └───────┘ └─────────┘└──────────┘                »\n",
       "«                             ┌───┐┌─────────┐┌─────────┐┌──────────┐┌───┐»\n",
       "«q_0: ────────────────────────┤ X ├┤ RZ(π/2) ├┤ RY(π/2) ├┤ RZ(-π/2) ├┤ X ├»\n",
       "«     ┌─────────┐┌───────────┐└─┬─┘└─────────┘└─────────┘└──────────┘└─┬─┘»\n",
       "«q_1: ┤ RY(π/2) ├┤ P(1.8162) ├──■──────────────────────────────────────┼──»\n",
       "«     └─────────┘└───────────┘                                         │  »\n",
       "«q_2: ─────────────────────────────────────────────────────────────────■──»\n",
       "«                                                                         »\n",
       "«     ┌─────────┐┌─────────┐┌──────────┐┌───┐┌────────┐┌─────────┐»\n",
       "«q_0: ┤ RZ(π/2) ├┤ RY(π/2) ├┤ RZ(-π/2) ├┤ X ├┤ RZ(-π) ├┤ RY(π/2) ├»\n",
       "«     └─────────┘└─────────┘└──────────┘└─┬─┘└────────┘└─────────┘»\n",
       "«q_1: ────────────────────────────────────■───────────────────────»\n",
       "«                                                                 »\n",
       "«q_2: ────────────────────────────────────────────────────────────»\n",
       "«                                                                 »\n",
       "«     ┌────────────┐┌─────────┐┌───┐┌──────────┐┌─────────┐┌─────────┐┌───┐»\n",
       "«q_0: ┤ P(-1.4726) ├┤ RY(π/2) ├┤ X ├┤ RZ(-π/2) ├┤ RY(π/2) ├┤ RZ(π/2) ├┤ X ├»\n",
       "«     └────────────┘└─────────┘└─┬─┘└──────────┘└─────────┘└─────────┘└─┬─┘»\n",
       "«q_1: ───────────────────────────■──────────────────────────────────────┼──»\n",
       "«                                                                       │  »\n",
       "«q_2: ──────────────────────────────────────────────────────────────────■──»\n",
       "«                                                                          »\n",
       "«     ┌─────────┐┌─────────┐ ┌──────────┐┌───┐ ┌────────┐┌─────────┐ »\n",
       "«q_0: ┤ RZ(π/2) ├┤ RY(π/2) ├─┤ RZ(-π/2) ├┤ X ├─┤ RZ(-π) ├┤ RY(π/2) ├─»\n",
       "«     └─────────┘└─────────┘ └──────────┘└─┬─┘┌┴────────┤├─────────┴┐»\n",
       "«q_1: ─────────────────────────────────────■──┤ RY(π/2) ├┤ RZ(-π/2) ├»\n",
       "«     ┌─────────┐┌──────────┐                 └─────────┘└──────────┘»\n",
       "«q_2: ┤ RY(π/2) ├┤ RZ(-π/2) ├────────────────────────────────────────»\n",
       "«     └─────────┘└──────────┘                                        »\n",
       "«     ┌──────────┐     ┌─────────┐                                        »\n",
       "«q_0: ┤ P(-5π/8) ├──■──┤ RY(π/2) ├────────────────────────────────────────»\n",
       "«     └──────────┘  │  └─────────┘                       ┌───┐┌──────────┐»\n",
       "«q_1: ──────────────┼────────────────────────────────────┤ X ├┤ RZ(-π/2) ├»\n",
       "«                 ┌─┴─┐┌──────────┐┌─────────┐┌─────────┐└─┬─┘└──────────┘»\n",
       "«q_2: ────────────┤ X ├┤ RZ(-π/2) ├┤ RY(π/2) ├┤ RZ(π/2) ├──■──────────────»\n",
       "«                 └───┘└──────────┘└─────────┘└─────────┘                 »\n",
       "«                          ┌───┐┌──────────┐┌─────────┐┌─────────┐┌───┐»\n",
       "«q_0: ─────────────────────┤ X ├┤ RZ(-π/2) ├┤ RY(π/2) ├┤ RZ(π/2) ├┤ X ├»\n",
       "«     ┌─────────┐┌────────┐└─┬─┘└──────────┘└─────────┘└─────────┘└─┬─┘»\n",
       "«q_1: ┤ RY(π/2) ├┤ RZ(-π) ├──■──────────────────────────────────────┼──»\n",
       "«     └─────────┘└────────┘                                         │  »\n",
       "«q_2: ──────────────────────────────────────────────────────────────■──»\n",
       "«                                                                      »\n",
       "«     ┌─────────┐┌─────────┐┌──────────┐┌───┐┌────────┐┌─────────┐┌──────────┐\n",
       "«q_0: ┤ RZ(π/2) ├┤ RY(π/2) ├┤ RZ(-π/2) ├┤ X ├┤ RZ(-π) ├┤ RY(π/2) ├┤ RZ(-π/4) ├\n",
       "«     └─────────┘└─────────┘└──────────┘└─┬─┘└────────┘└─────────┘└──────────┘\n",
       "«q_1: ────────────────────────────────────■───────────────────────────────────\n",
       "«                                                                             \n",
       "«q_2: ────────────────────────────────────────────────────────────────────────\n",
       "«                                                                             "
      ]
     },
     "execution_count": 17,
     "metadata": {},
     "output_type": "execute_result"
    }
   ],
   "source": [
    "# this is how our given unitary matrix operator has been converted to a large sequence of elemntary \n",
    "# gates and this is why this method (matrix to gate) is taking a lot more time. notice that with \n",
    "# using direct gates we are running our circuit (shots) for 1000 times, number of shots is 100 and\n",
    "# in second method and still it is taking good amount of time.\n",
    "qc = QuantumCircuit(3)\n",
    "qc.h(0)\n",
    "qc.append(Incr_Decr_Oper(0,2), range(0, 3))\n",
    "bkend = Aer.get_backend('qasm_simulator')\n",
    "transpile(qc, bkend, optimization_level=3).draw()\n"
   ]
  },
  {
   "cell_type": "code",
   "execution_count": null,
   "metadata": {},
   "outputs": [],
   "source": [
    "# end of program"
   ]
  }
 ],
 "metadata": {
  "kernelspec": {
   "display_name": "Python 3",
   "language": "python",
   "name": "python3"
  },
  "language_info": {
   "codemirror_mode": {
    "name": "ipython",
    "version": 3
   },
   "file_extension": ".py",
   "mimetype": "text/x-python",
   "name": "python",
   "nbconvert_exporter": "python",
   "pygments_lexer": "ipython3",
   "version": "3.8.5"
  }
 },
 "nbformat": 4,
 "nbformat_minor": 4
}
