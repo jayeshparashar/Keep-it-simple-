{
 "cells": [
  {
   "cell_type": "markdown",
   "metadata": {},
   "source": [
    "Working of Elitzur–Vaidman bomb tester explained using IBM qiskit sdk. This code is created in response to IBM's qiskit video uploaded on same topic https://www.youtube.com/watch?v=fus1nJ6JaTk&t=401s. Hope it helps in understanding the various aspects on this experiment.\n",
    "\n",
    "In the code below CNOT gate is used to represent a live vaidman bomb. first qubit holds the photon path information while the second qubit learns the first qubit’s state (photon’s path information) via CNOT (entangling gate) and acts as a measuring device. The presence of measurement/CNOT gate disturbs the smooth interference in first qubit where two subsequent Hadamard cancels out the component of state |1⟩. Due to the presence of bomb (measurement / decoherence), the system of two qubits can best described with just one wave function with four possible eigenvalues."
   ]
  },
  {
   "cell_type": "code",
   "execution_count": 2,
   "metadata": {},
   "outputs": [],
   "source": [
    "from qiskit import QuantumCircuit, QuantumRegister, ClassicalRegister, BasicAer, execute\n",
    "from qiskit.visualization import plot_histogram \n",
    "import numpy as np"
   ]
  },
  {
   "cell_type": "markdown",
   "metadata": {},
   "source": [
    "Mentioned below are few circuits that explains the gates setup for various possibilities of bomb to be in live or dud states. "
   ]
  },
  {
   "cell_type": "code",
   "execution_count": 3,
   "metadata": {},
   "outputs": [
    {
     "data": {
      "text/html": [
       "<pre style=\"word-wrap: normal;white-space: pre;background: #fff0;line-height: 1.1;font-family: &quot;Courier New&quot;,Courier,monospace\">        ┌───┐┌───┐ ░ ┌─┐   \n",
       "   q_0: ┤ H ├┤ H ├─░─┤M├───\n",
       "        └───┘└───┘ ░ └╥┘┌─┐\n",
       "   q_1: ───────────░──╫─┤M├\n",
       "                   ░  ║ └╥┘\n",
       "meas: 2/══════════════╩══╩═\n",
       "                      0  1 </pre>"
      ],
      "text/plain": [
       "        ┌───┐┌───┐ ░ ┌─┐   \n",
       "   q_0: ┤ H ├┤ H ├─░─┤M├───\n",
       "        └───┘└───┘ ░ └╥┘┌─┐\n",
       "   q_1: ───────────░──╫─┤M├\n",
       "                   ░  ║ └╥┘\n",
       "meas: 2/══════════════╩══╩═\n",
       "                      0  1 "
      ]
     },
     "execution_count": 3,
     "metadata": {},
     "output_type": "execute_result"
    }
   ],
   "source": [
    "# Let's start with no bomb\n",
    "Vaidman_bombtest_circuit = QuantumCircuit(2)\n",
    "Vaidman_bombtest_circuit.h(0)\n",
    "# 1st Hadamard gate puts 1st qubit in superpositon of |0⟩ and |1⟩  \n",
    "Vaidman_bombtest_circuit.h(0)\n",
    "# second Hadamard gate cancels out (destructively interfere) the |1⟩ state leaving a |0⟩ in 1st qubit\n",
    "Vaidman_bombtest_circuit.measure_all()\n",
    "Vaidman_bombtest_circuit.draw()"
   ]
  },
  {
   "cell_type": "code",
   "execution_count": 75,
   "metadata": {},
   "outputs": [
    {
     "data": {
      "image/png": "[encoded data removed]",
      "text/plain": [
       "<Figure size 504x360 with 1 Axes>"
      ]
     },
     "execution_count": 75,
     "metadata": {},
     "output_type": "execute_result"
    }
   ],
   "source": [
    "bkend = BasicAer.get_backend('qasm_simulator')\n",
    "job = execute(Vaidman_bombtest_circuit, bkend, shots=1000)\n",
    "counts = job.result().get_counts(Vaidman_bombtest_circuit)\n",
    "plot_histogram(counts)"
   ]
  },
  {
   "cell_type": "code",
   "execution_count": 76,
   "metadata": {},
   "outputs": [
    {
     "data": {
      "text/html": [
       "<pre style=\"word-wrap: normal;white-space: pre;background: #fff0;line-height: 1.1;font-family: &quot;Courier New&quot;,Courier,monospace\">     ┌─────────┐          ┌─┐   \n",
       "q_0: ┤ RY(π/2) ├──■───────┤M├───\n",
       "     └──┬───┬──┘  │  ┌───┐└╥┘┌─┐\n",
       "q_1: ───┤ H ├─────■──┤ H ├─╫─┤M├\n",
       "        └───┘   ┌─┴─┐└┬─┬┘ ║ └╥┘\n",
       "q_2: ───────────┤ X ├─┤M├──╫──╫─\n",
       "                └───┘ └╥┘  ║  ║ \n",
       "c: 3/══════════════════╩═══╩══╩═\n",
       "                       2   0  1 </pre>"
      ],
      "text/plain": [
       "     ┌─────────┐          ┌─┐   \n",
       "q_0: ┤ RY(π/2) ├──■───────┤M├───\n",
       "     └──┬───┬──┘  │  ┌───┐└╥┘┌─┐\n",
       "q_1: ───┤ H ├─────■──┤ H ├─╫─┤M├\n",
       "        └───┘   ┌─┴─┐└┬─┬┘ ║ └╥┘\n",
       "q_2: ───────────┤ X ├─┤M├──╫──╫─\n",
       "                └───┘ └╥┘  ║  ║ \n",
       "c: 3/══════════════════╩═══╩══╩═\n",
       "                       2   0  1 "
      ]
     },
     "execution_count": 76,
     "metadata": {},
     "output_type": "execute_result"
    }
   ],
   "source": [
    "Vaidman_bombtest_circuit = QuantumCircuit(3,3)\n",
    "# The 1st (LSB) is the bomb control qubit, we can change the rotation around Y axis from 0 to pi to increase chances of live bomb  \n",
    "# Rotation of pi/2 is used for 50%-50% chances of bomb as live or dud in this probabilty of finding bomb wihtout exploding\n",
    "# is 12.5% count correspond to outcome of 011 (01 in qubits 2 and 3  when bomb is live) \n",
    "Vaidman_bombtest_circuit.ry(np.pi/2,0)  \n",
    "Vaidman_bombtest_circuit.h(1)\n",
    "Vaidman_bombtest_circuit.ccx(0,1,2)\n",
    "Vaidman_bombtest_circuit.h(1)\n",
    "#Vaidman_bombtest_circuit.measure([1,2],[0,1])\n",
    "Vaidman_bombtest_circuit.measure([0,1,2],[0,1,2])\n",
    "Vaidman_bombtest_circuit.draw()"
   ]
  },
  {
   "cell_type": "code",
   "execution_count": 77,
   "metadata": {},
   "outputs": [
    {
     "data": {
      "image/png": "[encoded data removed]",
      "text/plain": [
       "<Figure size 504x360 with 1 Axes>"
      ]
     },
     "execution_count": 77,
     "metadata": {},
     "output_type": "execute_result"
    }
   ],
   "source": [
    "bkend = BasicAer.get_backend('qasm_simulator')\n",
    "job = execute(Vaidman_bombtest_circuit, bkend, shots=1000)\n",
    "counts = job.result().get_counts(Vaidman_bombtest_circuit)\n",
    "plot_histogram(counts)"
   ]
  },
  {
   "cell_type": "code",
   "execution_count": 4,
   "metadata": {},
   "outputs": [
    {
     "data": {
      "text/html": [
       "<pre style=\"word-wrap: normal;white-space: pre;background: #fff0;line-height: 1.1;font-family: &quot;Courier New&quot;,Courier,monospace\">        ┌───┐     ┌───┐ ░ ┌─┐   \n",
       "   q_0: ┤ H ├──■──┤ H ├─░─┤M├───\n",
       "        └───┘┌─┴─┐└───┘ ░ └╥┘┌─┐\n",
       "   q_1: ─────┤ X ├──────░──╫─┤M├\n",
       "             └───┘      ░  ║ └╥┘\n",
       "meas: 2/═══════════════════╩══╩═\n",
       "                           0  1 </pre>"
      ],
      "text/plain": [
       "        ┌───┐     ┌───┐ ░ ┌─┐   \n",
       "   q_0: ┤ H ├──■──┤ H ├─░─┤M├───\n",
       "        └───┘┌─┴─┐└───┘ ░ └╥┘┌─┐\n",
       "   q_1: ─────┤ X ├──────░──╫─┤M├\n",
       "             └───┘      ░  ║ └╥┘\n",
       "meas: 2/═══════════════════╩══╩═\n",
       "                           0  1 "
      ]
     },
     "execution_count": 4,
     "metadata": {},
     "output_type": "execute_result"
    }
   ],
   "source": [
    "# In case all the bombs are live bomb we can remove the 1st qubit and work with just two \n",
    "Vaidman_bombtest_circuit = QuantumCircuit(2)\n",
    "Vaidman_bombtest_circuit.h(0)\n",
    "\n",
    "# in CNOT below second qubit measures the states in 1st qubit, there is 50% chance of measuring state |1⟩ and bomb exploding  \n",
    "Vaidman_bombtest_circuit.cx(0,1)\n",
    "\n",
    "# The outcome of any operations on 1st qubit will remain entangled with second qubit as it has now become one system of\n",
    "# two qubits, that is described by one wave function.\n",
    "# Also if we consider entanglement as measurement, when it measures a |0⟩ in second qubit, it denotes collapse of 1st \n",
    "# qubit to |0⟩ path, and leave no |1⟩ component to interfere with upper path at next Hadamard operation, this qubit \n",
    "# then have equal probability to collapse to either |0⟩ or |1⟩  \n",
    "Vaidman_bombtest_circuit.h(0)\n",
    "Vaidman_bombtest_circuit.measure_all()\n",
    "Vaidman_bombtest_circuit.draw()"
   ]
  },
  {
   "cell_type": "code",
   "execution_count": 5,
   "metadata": {},
   "outputs": [
    {
     "data": {
      "image/png": "[encoded data removed]",
      "text/plain": [
       "<Figure size 504x360 with 1 Axes>"
      ]
     },
     "execution_count": 5,
     "metadata": {},
     "output_type": "execute_result"
    }
   ],
   "source": [
    "bkend = BasicAer.get_backend('qasm_simulator')\n",
    "job = execute(Vaidman_bombtest_circuit, bkend, shots=1000)\n",
    "counts = job.result().get_counts(Vaidman_bombtest_circuit)\n",
    "plot_histogram(counts)"
   ]
  },
  {
   "cell_type": "code",
   "execution_count": 6,
   "metadata": {},
   "outputs": [
    {
     "data": {
      "text/html": [
       "<pre style=\"word-wrap: normal;white-space: pre;background: #fff0;line-height: 1.1;font-family: &quot;Courier New&quot;,Courier,monospace\">        ┌───┐ ░ ┌─┐      \n",
       "   q_0: ┤ H ├─░─┤M├──────\n",
       "        └───┘ ░ └╥┘┌─┐   \n",
       "   q_1: ──■───░──╫─┤M├───\n",
       "        ┌─┴─┐ ░  ║ └╥┘┌─┐\n",
       "   q_2: ┤ X ├─░──╫──╫─┤M├\n",
       "        └───┘ ░  ║  ║ └╥┘\n",
       "meas: 3/═════════╩══╩══╩═\n",
       "                 0  1  2 </pre>"
      ],
      "text/plain": [
       "        ┌───┐ ░ ┌─┐      \n",
       "   q_0: ┤ H ├─░─┤M├──────\n",
       "        └───┘ ░ └╥┘┌─┐   \n",
       "   q_1: ──■───░──╫─┤M├───\n",
       "        ┌─┴─┐ ░  ║ └╥┘┌─┐\n",
       "   q_2: ┤ X ├─░──╫──╫─┤M├\n",
       "        └───┘ ░  ║  ║ └╥┘\n",
       "meas: 3/═════════╩══╩══╩═\n",
       "                 0  1  2 "
      ]
     },
     "execution_count": 6,
     "metadata": {},
     "output_type": "execute_result"
    }
   ],
   "source": [
    "Vaidman_bombtest_circuit = QuantumCircuit(3)\n",
    "Vaidman_bombtest_circuit.h(0)\n",
    "Vaidman_bombtest_circuit.cx(1,2) \n",
    "#Vaidman_bombtest_circuit.ch(2,1)\n",
    "Vaidman_bombtest_circuit.measure_all()\n",
    "Vaidman_bombtest_circuit.draw()"
   ]
  },
  {
   "cell_type": "code",
   "execution_count": 7,
   "metadata": {},
   "outputs": [
    {
     "data": {
      "image/png": "[encoded data removed]",
      "text/plain": [
       "<Figure size 504x360 with 1 Axes>"
      ]
     },
     "execution_count": 7,
     "metadata": {},
     "output_type": "execute_result"
    }
   ],
   "source": [
    "bkend = BasicAer.get_backend('qasm_simulator')\n",
    "job = execute(Vaidman_bombtest_circuit, bkend, shots=1000)\n",
    "counts = job.result().get_counts(Vaidman_bombtest_circuit)\n",
    "plot_histogram(counts)"
   ]
  },
  {
   "cell_type": "raw",
   "metadata": {},
   "source": [
    "# In order to enhance the probability of detecting bomb, if we perforn same experiment again & again, the probability  \n",
    "# of getting same result every time will decrease, in case of pi/6 rotation the probability of getting |0> is (cos(15))^2\n",
    "# so probabilty of bomb to detect wtout exploding after six attempts is given by ((cos(15))^2)^6 = 0.659667\n",
    "\n",
    "# if we take angle pi/8 the probability of finding bomb without exploding after eight iteration = (0.9619^2)^8 = 0.7331\n",
    "\n",
    "# on other side if there is no bomb (no CX gate), the first qubit will transform to |1> \n"
   ]
  },
  {
   "cell_type": "code",
   "execution_count": 3,
   "metadata": {},
   "outputs": [
    {
     "data": {
      "text/html": [
       "<pre style=\"word-wrap: normal;white-space: pre;background: #fff0;line-height: 1.1;font-family: &quot;Courier New&quot;,Courier,monospace\">     ┌─────────┐     ┌─────────┐          ┌─────────┐          ┌─────────┐     »\n",
       "q_0: ┤ RY(π/8) ├──■──┤ RY(π/8) ├───────■──┤ RY(π/8) ├───────■──┤ RY(π/8) ├─────»\n",
       "     └─────────┘┌─┴─┐└───┬─┬───┘     ┌─┴─┐└───┬─┬───┘     ┌─┴─┐└───┬─┬───┘     »\n",
       "q_1: ───────────┤ X ├────┤M├─────|0>─┤ X ├────┤M├─────|0>─┤ X ├────┤M├─────|0>─»\n",
       "                └───┘    └╥┘         └───┘    └╥┘         └───┘    └╥┘         »\n",
       "c: 9/═════════════════════╩════════════════════╩════════════════════╩══════════»\n",
       "                          1                    2                    3          »\n",
       "«          ┌─────────┐          ┌─────────┐          ┌─────────┐          »\n",
       "«q_0: ──■──┤ RY(π/8) ├───────■──┤ RY(π/8) ├───────■──┤ RY(π/8) ├───────■──»\n",
       "«     ┌─┴─┐└───┬─┬───┘     ┌─┴─┐└───┬─┬───┘     ┌─┴─┐└───┬─┬───┘     ┌─┴─┐»\n",
       "«q_1: ┤ X ├────┤M├─────|0>─┤ X ├────┤M├─────|0>─┤ X ├────┤M├─────|0>─┤ X ├»\n",
       "«     └───┘    └╥┘         └───┘    └╥┘         └───┘    └╥┘         └───┘»\n",
       "«c: 9/══════════╩════════════════════╩════════════════════╩═══════════════»\n",
       "«               4                    5                    6               »\n",
       "«     ┌─────────┐     ┌─┐\n",
       "«q_0: ┤ RY(π/8) ├─────┤M├\n",
       "«     └───┬─┬───┘     └╥┘\n",
       "«q_1: ────┤M├─────|0>──╫─\n",
       "«         └╥┘          ║ \n",
       "«c: 9/═════╩═══════════╩═\n",
       "«          7           0 </pre>"
      ],
      "text/plain": [
       "     ┌─────────┐     ┌─────────┐          ┌─────────┐          ┌─────────┐     »\n",
       "q_0: ┤ RY(π/8) ├──■──┤ RY(π/8) ├───────■──┤ RY(π/8) ├───────■──┤ RY(π/8) ├─────»\n",
       "     └─────────┘┌─┴─┐└───┬─┬───┘     ┌─┴─┐└───┬─┬───┘     ┌─┴─┐└───┬─┬───┘     »\n",
       "q_1: ───────────┤ X ├────┤M├─────|0>─┤ X ├────┤M├─────|0>─┤ X ├────┤M├─────|0>─»\n",
       "                └───┘    └╥┘         └───┘    └╥┘         └───┘    └╥┘         »\n",
       "c: 9/═════════════════════╩════════════════════╩════════════════════╩══════════»\n",
       "                          1                    2                    3          »\n",
       "«          ┌─────────┐          ┌─────────┐          ┌─────────┐          »\n",
       "«q_0: ──■──┤ RY(π/8) ├───────■──┤ RY(π/8) ├───────■──┤ RY(π/8) ├───────■──»\n",
       "«     ┌─┴─┐└───┬─┬───┘     ┌─┴─┐└───┬─┬───┘     ┌─┴─┐└───┬─┬───┘     ┌─┴─┐»\n",
       "«q_1: ┤ X ├────┤M├─────|0>─┤ X ├────┤M├─────|0>─┤ X ├────┤M├─────|0>─┤ X ├»\n",
       "«     └───┘    └╥┘         └───┘    └╥┘         └───┘    └╥┘         └───┘»\n",
       "«c: 9/══════════╩════════════════════╩════════════════════╩═══════════════»\n",
       "«               4                    5                    6               »\n",
       "«     ┌─────────┐     ┌─┐\n",
       "«q_0: ┤ RY(π/8) ├─────┤M├\n",
       "«     └───┬─┬───┘     └╥┘\n",
       "«q_1: ────┤M├─────|0>──╫─\n",
       "«         └╥┘          ║ \n",
       "«c: 9/═════╩═══════════╩═\n",
       "«          7           0 "
      ]
     },
     "execution_count": 3,
     "metadata": {},
     "output_type": "execute_result"
    }
   ],
   "source": [
    "\n",
    "iterations = 8\n",
    "bomb_circuit = QuantumCircuit(2, 9)\n",
    "\n",
    "for i in range(iterations-1) :\n",
    "    bomb_circuit.ry(np.pi/8, 0)\n",
    "    bomb_circuit.cx(0,1) # cx gate is bomb that we need to detect, comment this line for no bomb condition\n",
    "    #use zeno effect to collapse state of 1st qubit to |0> most of the time. \n",
    "    bomb_circuit.measure([1], [i+1])\n",
    "    bomb_circuit.reset(1)\n",
    "\n",
    "bomb_circuit.ry(np.pi/8, 0)\n",
    "bomb_circuit.measure([0], [0])\n",
    "bomb_circuit.draw()\n"
   ]
  },
  {
   "cell_type": "code",
   "execution_count": 4,
   "metadata": {},
   "outputs": [
    {
     "data": {
      "image/png": "[encoded data removed]",
      "text/plain": [
       "<Figure size 504x360 with 1 Axes>"
      ]
     },
     "execution_count": 4,
     "metadata": {},
     "output_type": "execute_result"
    }
   ],
   "source": [
    "bkend = BasicAer.get_backend('qasm_simulator')\n",
    "job = execute(bomb_circuit, bkend, shots=1000)\n",
    "counts = job.result().get_counts(bomb_circuit)\n",
    "plot_histogram(counts)"
   ]
  },
  {
   "cell_type": "raw",
   "metadata": {},
   "source": [
    "# If we use Ry gate to get a superpositon state and entangle this qubit with hepl of (CNOT/CX acting as measurement),\n",
    "# we can see that everytime even when the probability of photon being measured/detected as 1, it will definitely get \n",
    "# measured each time and due to superpositon by pi/6 angle, most of the time photon end up in |0> state (and this will\n",
    "# be just zero and not the superposition of |0> and |1>), in order to knwo if this state is a superpositon state or |0>\n",
    "# we send it thru the hadamard gate, if the state in zero'th path is |0> (collapsed one) then goingthru H it is destined \n",
    "# to be masured in equal numer of |0>'s and |1>'s\n"
   ]
  },
  {
   "cell_type": "code",
   "execution_count": 7,
   "metadata": {},
   "outputs": [
    {
     "data": {
      "text/html": [
       "<pre style=\"word-wrap: normal;white-space: pre;background: #fff0;line-height: 1.1;font-family: &quot;Courier New&quot;,Courier,monospace\">        ┌─────────┐     ┌───┐ ░ ┌─┐   \n",
       "   q_0: ┤ RY(π/6) ├──■──┤ H ├─░─┤M├───\n",
       "        └─────────┘┌─┴─┐└───┘ ░ └╥┘┌─┐\n",
       "   q_1: ───────────┤ X ├──────░──╫─┤M├\n",
       "                   └───┘      ░  ║ └╥┘\n",
       "meas: 2/═════════════════════════╩══╩═\n",
       "                                 0  1 </pre>"
      ],
      "text/plain": [
       "        ┌─────────┐     ┌───┐ ░ ┌─┐   \n",
       "   q_0: ┤ RY(π/6) ├──■──┤ H ├─░─┤M├───\n",
       "        └─────────┘┌─┴─┐└───┘ ░ └╥┘┌─┐\n",
       "   q_1: ───────────┤ X ├──────░──╫─┤M├\n",
       "                   └───┘      ░  ║ └╥┘\n",
       "meas: 2/═════════════════════════╩══╩═\n",
       "                                 0  1 "
      ]
     },
     "execution_count": 7,
     "metadata": {},
     "output_type": "execute_result"
    }
   ],
   "source": [
    "bomb_circuit = QuantumCircuit(2)\n",
    "bomb_circuit.ry(np.pi/6, 0)\n",
    "bomb_circuit.cx(0,1) # cx gate is bomb that we need to detect\n",
    "bomb_circuit.h(0)\n",
    "bomb_circuit.measure_all()\n",
    "bomb_circuit.draw()"
   ]
  },
  {
   "cell_type": "code",
   "execution_count": 8,
   "metadata": {},
   "outputs": [
    {
     "data": {
      "image/png": "[encoded data removed]",
      "text/plain": [
       "<Figure size 504x360 with 1 Axes>"
      ]
     },
     "execution_count": 8,
     "metadata": {},
     "output_type": "execute_result"
    }
   ],
   "source": [
    "bkend = BasicAer.get_backend('qasm_simulator')\n",
    "job = execute(bomb_circuit, bkend, shots=1000)\n",
    "counts = job.result().get_counts(bomb_circuit)\n",
    "plot_histogram(counts)"
   ]
  },
  {
   "cell_type": "code",
   "execution_count": null,
   "metadata": {},
   "outputs": [],
   "source": [
    "# In another case  when CX is not there, then doing a hadamard on superposition state will take it to an angle of 60 \n",
    "# & chances of it collapsing to zero will be around a quarter.  \n",
    "bomb_circuit = QuantumCircuit(2)\n",
    "bomb_circuit.ry(np.pi/6, 0)\n",
    "bomb_circuit.h(0)\n",
    "bomb_circuit.measure_all()"
   ]
  },
  {
   "cell_type": "code",
   "execution_count": 9,
   "metadata": {},
   "outputs": [
    {
     "data": {
      "image/png": "[encoded data removed]",
      "text/plain": [
       "<Figure size 504x360 with 1 Axes>"
      ]
     },
     "execution_count": 9,
     "metadata": {},
     "output_type": "execute_result"
    }
   ],
   "source": [
    "# probability of detecting bomb wihtout exploding is increased by almost 25% while exploding is very low, however in this \n",
    "# case a measurement of |1> on 1st qubit is not unique as it was in case of detecting bomb/measurement device with \n",
    "# Hadamard gate (instead of ry(pi/6) used to obtain equal superspotion in first place. \n",
    "\n",
    "bkend = BasicAer.get_backend('qasm_simulator')\n",
    "job = execute(bomb_circuit, bkend, shots=1000)\n",
    "counts = job.result().get_counts(bomb_circuit)\n",
    "plot_histogram(counts)"
   ]
  },
  {
   "cell_type": "code",
   "execution_count": 12,
   "metadata": {},
   "outputs": [
    {
     "data": {
      "text/html": [
       "<pre style=\"word-wrap: normal;white-space: pre;background: #fff0;line-height: 1.1;font-family: &quot;Courier New&quot;,Courier,monospace\">                                                                               »\n",
       "q_0: ─────────────■────────────────────■────────────────────■──────────────────»\n",
       "     ┌─────────┐  │  ┌─────────┐       │  ┌─────────┐       │  ┌─────────┐     »\n",
       "q_1: ┤ RX(π/6) ├──■──┤ RX(π/6) ├───────■──┤ RX(π/6) ├───────■──┤ RX(π/6) ├─────»\n",
       "     └─────────┘┌─┴─┐└───┬─┬───┘     ┌─┴─┐└───┬─┬───┘     ┌─┴─┐└───┬─┬───┘     »\n",
       "q_2: ───────────┤ X ├────┤M├─────|0>─┤ X ├────┤M├─────|0>─┤ X ├────┤M├─────|0>─»\n",
       "                └───┘    └╥┘         └───┘    └╥┘         └───┘    └╥┘         »\n",
       "c: 7/═════════════════════╩════════════════════╩════════════════════╩══════════»\n",
       "                          0                    1                    2          »\n",
       "«                                          ┌─┐        \n",
       "«q_0: ──■────────────────────■─────────────┤M├────────\n",
       "«       │  ┌─────────┐       │  ┌─────────┐└╥┘     ┌─┐\n",
       "«q_1: ──■──┤ RX(π/6) ├───────■──┤ RX(π/6) ├─╫──────┤M├\n",
       "«     ┌─┴─┐└───┬─┬───┘     ┌─┴─┐└───┬─┬───┘ ║      └╥┘\n",
       "«q_2: ┤ X ├────┤M├─────|0>─┤ X ├────┤M├─────╫──|0>──╫─\n",
       "«     └───┘    └╥┘         └───┘    └╥┘     ║       ║ \n",
       "«c: 7/══════════╩════════════════════╩══════╩═══════╩═\n",
       "«               3                    4      6       5 </pre>"
      ],
      "text/plain": [
       "                                                                               »\n",
       "q_0: ─────────────■────────────────────■────────────────────■──────────────────»\n",
       "     ┌─────────┐  │  ┌─────────┐       │  ┌─────────┐       │  ┌─────────┐     »\n",
       "q_1: ┤ RX(π/6) ├──■──┤ RX(π/6) ├───────■──┤ RX(π/6) ├───────■──┤ RX(π/6) ├─────»\n",
       "     └─────────┘┌─┴─┐└───┬─┬───┘     ┌─┴─┐└───┬─┬───┘     ┌─┴─┐└───┬─┬───┘     »\n",
       "q_2: ───────────┤ X ├────┤M├─────|0>─┤ X ├────┤M├─────|0>─┤ X ├────┤M├─────|0>─»\n",
       "                └───┘    └╥┘         └───┘    └╥┘         └───┘    └╥┘         »\n",
       "c: 7/═════════════════════╩════════════════════╩════════════════════╩══════════»\n",
       "                          0                    1                    2          »\n",
       "«                                          ┌─┐        \n",
       "«q_0: ──■────────────────────■─────────────┤M├────────\n",
       "«       │  ┌─────────┐       │  ┌─────────┐└╥┘     ┌─┐\n",
       "«q_1: ──■──┤ RX(π/6) ├───────■──┤ RX(π/6) ├─╫──────┤M├\n",
       "«     ┌─┴─┐└───┬─┬───┘     ┌─┴─┐└───┬─┬───┘ ║      └╥┘\n",
       "«q_2: ┤ X ├────┤M├─────|0>─┤ X ├────┤M├─────╫──|0>──╫─\n",
       "«     └───┘    └╥┘         └───┘    └╥┘     ║       ║ \n",
       "«c: 7/══════════╩════════════════════╩══════╩═══════╩═\n",
       "«               3                    4      6       5 "
      ]
     },
     "execution_count": 12,
     "metadata": {},
     "output_type": "execute_result"
    }
   ],
   "source": [
    "from qiskit.circuit.library import CCXGate, RXGate\n",
    "import numpy as np\n",
    "\n",
    "# Circuit modified to representing Vaidman bomb with help of a XOR + Controlled hadamard gate.  \n",
    "\n",
    "def q_sweeper(cycles) :\n",
    "    qr = QuantumRegister(3, 'q')\n",
    "    cr = ClassicalRegister(cycles+1, 'c')\n",
    "    qc = QuantumCircuit(qr, cr)\n",
    "#   qc.h(qr[0])  # comment this line to create a  no bomb circuit\n",
    "#   qc.x(qr[0])  # comment previous line and uncomment this line to create abomb circuit\n",
    "\n",
    "    for cycle in range(cycles-1):\n",
    "        qc.append(RXGate(theta), [qr[1]])\n",
    "        qc.ccx(qr[0], qr[1], qr[2]) \n",
    "#        qc.ch(qr[2],qr[1])\n",
    "        qc.measure(qr[2],cr[cycle])\n",
    "        if cycle < cycles-1:\n",
    "            qc.reset(qr[2])\n",
    "        \n",
    "    qc.append(RXGate(theta), [qr[1]])\n",
    "    qc.measure(qr[1],cr[cycles-1])\n",
    "    qc.measure(qr[0],cr[cycles])\n",
    "    return qc\n",
    "\n",
    "successes = 0 # We will use this variable to track the number of successful predictions in a row\n",
    "cycles = 6\n",
    "theta = np.pi/cycles\n",
    "\n",
    "zeno_circuit = q_sweeper(cycles)\n",
    "zeno_circuit.draw()"
   ]
  },
  {
   "cell_type": "code",
   "execution_count": 11,
   "metadata": {},
   "outputs": [
    {
     "data": {
      "image/png": "[encoded data removed]",
      "text/plain": [
       "<Figure size 504x360 with 1 Axes>"
      ]
     },
     "execution_count": 11,
     "metadata": {},
     "output_type": "execute_result"
    }
   ],
   "source": [
    "simulator = BasicAer.get_backend('qasm_simulator')\n",
    "qsweeper_job = execute(zeno_circuit, simulator, shots=1000)\n",
    "qsweeper_result = qsweeper_job.result()\n",
    "qsweeper_counts = qsweeper_result.get_counts(zeno_circuit)\n",
    "\n",
    "plot_histogram(qsweeper_counts)"
   ]
  },
  {
   "cell_type": "code",
   "execution_count": null,
   "metadata": {},
   "outputs": [],
   "source": [
    "# end of program"
   ]
  },
  {
   "cell_type": "code",
   "execution_count": null,
   "metadata": {},
   "outputs": [],
   "source": []
  }
 ],
 "metadata": {
  "kernelspec": {
   "display_name": "Python 3",
   "language": "python",
   "name": "python3"
  },
  "language_info": {
   "codemirror_mode": {
    "name": "ipython",
    "version": 3
   },
   "file_extension": ".py",
   "mimetype": "text/x-python",
   "name": "python",
   "nbconvert_exporter": "python",
   "pygments_lexer": "ipython3",
   "version": "3.8.5"
  }
 },
 "nbformat": 4,
 "nbformat_minor": 4
}
